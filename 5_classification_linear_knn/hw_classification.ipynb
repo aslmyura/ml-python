{
 "cells": [
  {
   "cell_type": "markdown",
   "metadata": {},
   "source": [
    "# Classification. Linear models and KNN"
   ]
  },
  {
   "cell_type": "code",
   "execution_count": 1,
   "metadata": {},
   "outputs": [],
   "source": [
    "import os\n",
    "import numpy as np\n",
    "import pandas as pd\n",
    "import seaborn as sns\n",
    "import matplotlib.pyplot as plt"
   ]
  },
  {
   "cell_type": "code",
   "execution_count": 2,
   "metadata": {},
   "outputs": [],
   "source": [
    "from sklearn.pipeline import Pipeline\n",
    "from sklearn.compose import ColumnTransformer\n",
    "from sklearn.model_selection import train_test_split, cross_validate\n",
    "from sklearn.metrics import plot_confusion_matrix, accuracy_score\n",
    "from sklearn.neighbors import KNeighborsClassifier\n",
    "from sklearn.preprocessing import StandardScaler, OneHotEncoder"
   ]
  },
  {
   "cell_type": "markdown",
   "metadata": {},
   "source": [
    "## Part 1: Implementing Logistic Regression"
   ]
  },
  {
   "cell_type": "markdown",
   "metadata": {},
   "source": [
    "In this task you need to implement Logistic Regression with l2 regularization using gradient descent algorithm."
   ]
  },
  {
   "cell_type": "markdown",
   "metadata": {},
   "source": [
    "Logistic Regression loss:\n",
    "$$ L(w) = \\dfrac{1}{N}\\sum_{i=1}^N \\log(1 + e^{-\\langle w, x_i \\rangle y_i}) + \\frac{1}{2C} \\lVert w \\rVert^2  \\to \\min_w$$\n",
    "$$\\langle w, x_i \\rangle = \\sum_{j=1}^n w_{j}x_{ij} + w_{0},$$ $$ y_{i} \\in \\{-1, 1\\}$$ where $n$ is the number of features and $N$ is the number of samples."
   ]
  },
  {
   "cell_type": "markdown",
   "metadata": {},
   "source": [
    "Gradient descent step:\n",
    "$$w^{(t+1)} := w^{(t)} + \\dfrac{\\eta}{N}\\sum_{i=1}^N y_ix_i \\Big(1 - \\dfrac{1}{1 + exp(-\\langle w^{(t)}, x_i \\rangle y_i)}\\Big) - \\eta \\frac{1}{C} w,$$\n",
    "where $\\eta$ is the learning rate."
   ]
  },
  {
   "cell_type": "markdown",
   "metadata": {},
   "source": [
    "**(2 points)** Implement the algorithm and use it to classify the digits (https://scikit-learn.org/stable/modules/generated/sklearn.datasets.load_digits.html) into \"even\" and \"odd\" categories. \"Even\" and \"Odd\" classes  should correspond to {-1, 1} labels."
   ]
  },
  {
   "cell_type": "markdown",
   "metadata": {},
   "source": [
    "Stopping criteria: either the number of iterations exceeds *max_iter* or $||w^{(t+1)} - w^{(t)}||_2 < tol$."
   ]
  },
  {
   "cell_type": "code",
   "execution_count": 3,
   "metadata": {},
   "outputs": [],
   "source": [
    "from sklearn.exceptions import NotFittedError"
   ]
  },
  {
   "cell_type": "code",
   "execution_count": 545,
   "metadata": {},
   "outputs": [],
   "source": [
    "class CustomLogisticRegression:\n",
    "    _estimator_type = \"classifier\"\n",
    "    \n",
    "    def __init__(self, eta=0.001, max_iter=1000, C=1.0, tol=1e-5, random_state=42, zero_init=False):\n",
    "        \"\"\"Logistic Regression classifier.\n",
    "        \n",
    "        Args:\n",
    "            eta: float, default=0.001\n",
    "                Learning rate.\n",
    "            max_iter: int, default=1000\n",
    "                Maximum number of iterations taken for the solvers to converge.\n",
    "            C: float, default=1.0\n",
    "                Inverse of regularization strength; must be a positive float.\n",
    "                Smaller values specify stronger regularization.\n",
    "            tol: float, default=1e-5\n",
    "                Tolerance for stopping criteria.\n",
    "            random_state: int, default=42\n",
    "                Random state.\n",
    "            zero_init: bool, default=False\n",
    "                Zero weight initialization.\n",
    "        \"\"\"\n",
    "        self.eta = eta\n",
    "        self.max_iter = max_iter\n",
    "        self.C = C\n",
    "        self.tol = tol\n",
    "        self.random_state = np.random.RandomState(seed=random_state)\n",
    "        self.zero_init = zero_init\n",
    "        self.loss_array = []\n",
    "         \n",
    "    def get_sigmoid(self, X, weights):\n",
    "        \"\"\"Compute the sigmoid value.\"\"\"           \n",
    "        sig_val = []\n",
    "        i = 0\n",
    "        while i < (X.shape[0]):\n",
    "            sig_val.append(1 / (1 + math.exp(-np.dot(X[i,:],weights))))\n",
    "            i = i + 1\n",
    "        return np.array(sig_val)\n",
    "        \n",
    "    \n",
    "    \n",
    "#     def get_loss(self, x, weights, y):\n",
    "    def get_loss(self, X, weights, y):\n",
    "        \"\"\"Calculate the loss.\"\"\"\n",
    "        \n",
    "        N = X.shape[0]        \n",
    "        w = np.zeros(shape=(N,1))\n",
    "        for i in range(N):\n",
    "            val = 1 + math.exp(-np.multiply(np.dot(weights, X[i,:]),y[i]))\n",
    "            w[i] = math.log(val)\n",
    "            \n",
    "        loss = w.sum() / N + np.linalg.norm(weights)**2/(2*self.C);\n",
    "#         print(f'loss: {loss}')\n",
    "        return loss\n",
    "\n",
    " \n",
    "    def get_delta(self, X, weights, y):\n",
    "        N = X.shape[0]\n",
    "        n = X.shape[1]\n",
    "\n",
    "        w = np.zeros(shape=(N,n))\n",
    "        for i in range(N):\n",
    "            val = 1 - 1/(1 + math.exp(-np.multiply(np.dot(weights, X[i,:]),y[i])))\n",
    "            w[i,:] = X[i,:]*y[i]*val\n",
    "            \n",
    "        delta = w.sum(axis = 0)/ N * self.eta - weights/self.C*self.eta;\n",
    "        return delta\n",
    "    \n",
    "    \n",
    "    def fit(self, X, y):\n",
    "        \"\"\"Fit the model.\n",
    "        \n",
    "        Args:\n",
    "            X: numpy array of shape (n_samples, n_features)\n",
    "            y: numpy array of shape (n_samples,)\n",
    "                Target vector.        \n",
    "        \"\"\"\n",
    "        X_ext = np.hstack([np.ones((X.shape[0], 1)), X]) # a constant feature is included to handle intercept\n",
    "        self.loss_array = []\n",
    "        \n",
    "        num_features = X_ext.shape[1]\n",
    "        if self.zero_init:\n",
    "            self.weights_ = np.zeros(num_features) \n",
    "        else:\n",
    "            weight_threshold = 1.0 / (2 * num_features)\n",
    "            self.weights_ = self.random_state.uniform(low=-weight_threshold,\n",
    "                                                      high=weight_threshold, size=num_features) # random weight initialization\n",
    "            \n",
    "        for i in range(self.max_iter):\n",
    "#             delta = \"<your code>\"\n",
    "\n",
    "            delta = self.get_delta(X_ext, self.weights_, y)\n",
    "            self.weights_ += delta\n",
    "        \n",
    "            loss = self.get_loss(X_ext, self.weights_, y)\n",
    "            loss_array = self.loss_array.append(loss)\n",
    "            \n",
    "            if np.linalg.norm(delta) < self.tol: \n",
    "                break\n",
    "                \n",
    "#         print(f'result weights: {self.weights_}')\n",
    "#         print(f'loss array: {self.loss_array}')\n",
    "        \n",
    "     \n",
    "    def predict_proba(self, X):\n",
    "        \"\"\"Predict positive class probabilities.\n",
    "        \n",
    "        Args:\n",
    "            X: numpy array of shape (n_samples, n_features)\n",
    "        Returns:\n",
    "            y: numpy array of shape (n_samples,)\n",
    "                Vector containing positive class probabilities.\n",
    "        \"\"\"\n",
    "        X_ext = np.hstack([np.ones((X.shape[0], 1)), X])\n",
    "        if hasattr(self, 'weights_'):\n",
    "            return self.get_sigmoid(X_ext, self.weights_)\n",
    "        else: \n",
    "            raise NotFittedError(\"CustomLogisticRegression instance is not fitted yet\")\n",
    "    \n",
    "    def predict(self, X):\n",
    "        \"\"\"Predict classes.\n",
    "        \n",
    "        Args:\n",
    "            X: numpy array of shape (n_samples, n_features)\n",
    "        Returns:\n",
    "            y: numpy array of shape (n_samples,)\n",
    "                Vector containing predicted class labels.\n",
    "        \"\"\"\n",
    "        return [1 if v > 0.5 else -1 for v in self.predict_proba(X)]\n",
    "\n",
    "        "
   ]
  },
  {
   "cell_type": "code",
   "execution_count": 1223,
   "metadata": {},
   "outputs": [],
   "source": [
    "from sklearn import datasets\n",
    "from sklearn import metrics"
   ]
  },
  {
   "cell_type": "code",
   "execution_count": 1224,
   "metadata": {},
   "outputs": [
    {
     "data": {
      "image/png": "[encoded data removed]",
      "text/plain": [
       "<Figure size 720x360 with 21 Axes>"
      ]
     },
     "metadata": {
      "needs_background": "light"
     },
     "output_type": "display_data"
    }
   ],
   "source": [
    "X, y = datasets.load_digits(n_class=10, return_X_y=True)\n",
    "\n",
    "_, axes = plt.subplots(nrows=3, ncols=7, figsize=(10, 5))\n",
    "for ax, image, label in zip(axes.flatten(), X, y):\n",
    "    ax.set_axis_off()\n",
    "    ax.imshow(image.reshape((8, 8)), cmap=plt.cm.gray_r if label % 2 else plt.cm.afmhot_r)\n",
    "    ax.set_title(label)\n",
    "\n",
    "X_train, X_test, y_train, y_test = train_test_split(X, y, test_size=0.2, shuffle=True, random_state=42)\n",
    "y_train = (y_train % 2) * 2 - 1\n",
    "y_test = (y_test % 2) * 2 - 1"
   ]
  },
  {
   "cell_type": "code",
   "execution_count": 1225,
   "metadata": {},
   "outputs": [
    {
     "data": {
      "text/plain": [
       "array([[ 0.,  0.,  3., ..., 13.,  4.,  0.],\n",
       "       [ 0.,  0.,  9., ...,  3.,  0.,  0.],\n",
       "       [ 0.,  0.,  0., ...,  6.,  0.,  0.],\n",
       "       ...,\n",
       "       [ 0.,  0.,  9., ..., 16.,  2.,  0.],\n",
       "       [ 0.,  0.,  1., ...,  0.,  0.,  0.],\n",
       "       [ 0.,  0.,  1., ...,  1.,  0.,  0.]])"
      ]
     },
     "execution_count": 1225,
     "metadata": {},
     "output_type": "execute_result"
    }
   ],
   "source": []
  },
  {
   "cell_type": "code",
   "execution_count": 549,
   "metadata": {},
   "outputs": [],
   "source": [
    "assert (np.unique(y_train) == [-1, 1]).all()\n",
    "assert (np.unique(y_test) == [-1, 1]).all()"
   ]
  },
  {
   "cell_type": "code",
   "execution_count": 590,
   "metadata": {},
   "outputs": [],
   "source": [
    "def fit_evaluate(clf, X_train, y_train, X_test, y_test):\n",
    "    clf.fit(X_train, y_train)\n",
    "    disp = metrics.plot_confusion_matrix(clf, X_test, y_test, normalize='true')\n",
    "    disp.figure_.suptitle(\"Confusion Matrix\")\n",
    "    plt.show()\n",
    "    \n",
    "    return metrics.accuracy_score(y_pred=clf.predict(X_train), y_true=y_train), \\\n",
    "           metrics.accuracy_score(y_pred=clf.predict(X_test), y_true=y_test)\n",
    "\n",
    "\n",
    "def fit_evaluate_without_plot(clf, X_train, y_train, X_test, y_test):\n",
    "    clf.fit(X_train, y_train)\n",
    "    return metrics.accuracy_score(y_pred=clf.predict(X_train), y_true=y_train), \\\n",
    "           metrics.accuracy_score(y_pred=clf.predict(X_test), y_true=y_test)"
   ]
  },
  {
   "cell_type": "code",
   "execution_count": 551,
   "metadata": {},
   "outputs": [],
   "source": [
    "lr_clf = CustomLogisticRegression(max_iter=1, zero_init=True)"
   ]
  },
  {
   "cell_type": "code",
   "execution_count": 552,
   "metadata": {},
   "outputs": [],
   "source": [
    "assert np.allclose(lr_clf.get_sigmoid(np.array([[0.5, 0, 1.0], [0.3, 1.3, 1.0]]), np.array([0.5, -0.5, 0.1])),\n",
    "                   np.array([0.58662, 0.40131]))"
   ]
  },
  {
   "cell_type": "code",
   "execution_count": 553,
   "metadata": {},
   "outputs": [],
   "source": [
    "lr_clf.fit(X_train, y_train)"
   ]
  },
  {
   "cell_type": "code",
   "execution_count": 554,
   "metadata": {},
   "outputs": [],
   "source": [
    "assert np.allclose(lr_clf.weights_, np.array([ 3.1000e-06,  0.0000e+00,  4.1800e-05,  5.4770e-04,  2.2130e-04,\n",
    "        4.8750e-04,  1.3577e-03,  5.9780e-04,  5.6400e-05, -7.0000e-07,\n",
    "        1.6910e-04,  2.5190e-04, -4.3700e-04,  3.6190e-04,  1.0049e-03,\n",
    "        4.2280e-04,  2.5700e-05,  3.0000e-07, -1.1500e-05, -7.2440e-04,\n",
    "       -2.6200e-04,  8.7540e-04,  4.1540e-04, -8.4200e-05, -5.2000e-06,\n",
    "        0.0000e+00, -2.2160e-04, -5.7130e-04,  9.8570e-04,  1.3507e-03,\n",
    "        5.0210e-04, -1.7050e-04, -1.0000e-06,  0.0000e+00, -6.7810e-04,\n",
    "       -1.0515e-03, -4.4500e-05,  3.7160e-04,  4.2100e-04, -8.1800e-05,\n",
    "        0.0000e+00, -5.2000e-06, -5.3410e-04, -2.0393e-03, -8.4310e-04,\n",
    "        1.0400e-04, -1.2390e-04, -1.7880e-04, -1.3200e-05, -4.5000e-06,\n",
    "       -9.4300e-05, -1.1127e-03, -5.0900e-04, -2.1850e-04, -5.6050e-04,\n",
    "       -3.9560e-04, -1.7700e-05, -3.0000e-07,  2.6800e-05,  6.3920e-04,\n",
    "        1.8090e-04, -7.3660e-04, -5.3930e-04, -3.7060e-04, -2.8200e-05]), atol=1e-5)"
   ]
  },
  {
   "cell_type": "code",
   "execution_count": 555,
   "metadata": {},
   "outputs": [],
   "source": [
    "model = CustomLogisticRegression()"
   ]
  },
  {
   "cell_type": "code",
   "execution_count": 556,
   "metadata": {},
   "outputs": [
    {
     "data": {
      "image/png": "[encoded data removed]",
      "text/plain": [
       "<Figure size 432x288 with 2 Axes>"
      ]
     },
     "metadata": {
      "needs_background": "light"
     },
     "output_type": "display_data"
    }
   ],
   "source": [
    "train_acc, test_acc = fit_evaluate(model, X_train, y_train, X_test, y_test)"
   ]
  },
  {
   "cell_type": "code",
   "execution_count": 557,
   "metadata": {},
   "outputs": [
    {
     "data": {
      "text/plain": [
       "(0.9109255393180237, 0.9388888888888889)"
      ]
     },
     "execution_count": 557,
     "metadata": {},
     "output_type": "execute_result"
    }
   ],
   "source": [
    "train_acc, test_acc"
   ]
  },
  {
   "cell_type": "code",
   "execution_count": 558,
   "metadata": {},
   "outputs": [],
   "source": [
    "assert min(train_acc, test_acc) > 0.9"
   ]
  },
  {
   "cell_type": "markdown",
   "metadata": {},
   "source": [
    "**(0.5 points)** Visualize the loss history."
   ]
  },
  {
   "cell_type": "code",
   "execution_count": 575,
   "metadata": {},
   "outputs": [
    {
     "data": {
      "image/png": "[encoded data removed]",
      "text/plain": [
       "<Figure size 576x288 with 1 Axes>"
      ]
     },
     "metadata": {
      "needs_background": "light"
     },
     "output_type": "display_data"
    }
   ],
   "source": [
    "iterations = np.arange(1, len(model.loss_array)+1)\n",
    "\n",
    "plt.figure(figsize=(8,4))\n",
    "plt.plot(iterations, model.loss_array)\n",
    "plt.title('Logistic Regression Log Loss ($eta$ = 0.001)')\n",
    "plt.xlabel('Iterations')\n",
    "plt.ylabel('Log Loss')\n",
    "plt.xlim(0,1000)\n",
    "plt.grid()\n",
    "plt.show()"
   ]
  },
  {
   "cell_type": "markdown",
   "metadata": {},
   "source": [
    "**(0.5 points)** Try different learning rates and compare the results. How does the learning rate influence the convergence?"
   ]
  },
  {
   "cell_type": "markdown",
   "metadata": {},
   "source": [
    "Для оценки влияния скорости обучения (learning rate) на итоговую точность классификации и сходимость функции потерь (Log Loss) сформируем дополнетельные модели предсказания для `eta = [0.1, 0.01]`."
   ]
  },
  {
   "cell_type": "markdown",
   "metadata": {},
   "source": [
    "- Логистическая регрессия с `eta=0.01`."
   ]
  },
  {
   "cell_type": "code",
   "execution_count": 560,
   "metadata": {},
   "outputs": [
    {
     "data": {
      "image/png": "[encoded data removed]",
      "text/plain": [
       "<Figure size 432x288 with 2 Axes>"
      ]
     },
     "metadata": {
      "needs_background": "light"
     },
     "output_type": "display_data"
    },
    {
     "data": {
      "text/plain": [
       "(0.7731384829505915, 0.7527777777777778)"
      ]
     },
     "execution_count": 560,
     "metadata": {},
     "output_type": "execute_result"
    }
   ],
   "source": [
    "model_01 = CustomLogisticRegression(eta=0.01)\n",
    "train_acc_01, test_acc_01 = fit_evaluate(model_01, X_train, y_train, X_test, y_test)\n",
    "train_acc_01, test_acc_01"
   ]
  },
  {
   "cell_type": "code",
   "execution_count": 579,
   "metadata": {},
   "outputs": [
    {
     "data": {
      "image/png": "[encoded data removed]",
      "text/plain": [
       "<Figure size 576x288 with 1 Axes>"
      ]
     },
     "metadata": {
      "needs_background": "light"
     },
     "output_type": "display_data"
    }
   ],
   "source": [
    "iterations_01 = np.arange(1, len(model_01.loss_array)+1)\n",
    "\n",
    "plt.figure(figsize=(8,4))\n",
    "plt.plot(iterations, model_01.loss_array)\n",
    "plt.title('Logistic Regression Log Loss ($eta$ = 0.01)')\n",
    "plt.xlabel('Iterations')\n",
    "plt.ylabel('Log Loss')\n",
    "plt.grid()\n",
    "plt.xlim(0,600)\n",
    "plt.show()"
   ]
  },
  {
   "cell_type": "markdown",
   "metadata": {},
   "source": [
    "- Логистическая регрессия с `eta=0.1`."
   ]
  },
  {
   "cell_type": "code",
   "execution_count": 561,
   "metadata": {},
   "outputs": [
    {
     "data": {
      "image/png": "[encoded data removed]",
      "text/plain": [
       "<Figure size 432x288 with 2 Axes>"
      ]
     },
     "metadata": {
      "needs_background": "light"
     },
     "output_type": "display_data"
    },
    {
     "data": {
      "text/plain": [
       "(0.5455810716771051, 0.5277777777777778)"
      ]
     },
     "execution_count": 561,
     "metadata": {},
     "output_type": "execute_result"
    }
   ],
   "source": [
    "model_1 = CustomLogisticRegression(eta=0.1)\n",
    "train_acc_1, test_acc_1 = fit_evaluate(model_1, X_train, y_train, X_test, y_test)\n",
    "train_acc_1, test_acc_1"
   ]
  },
  {
   "cell_type": "code",
   "execution_count": 572,
   "metadata": {},
   "outputs": [
    {
     "data": {
      "image/png": "[encoded data removed]",
      "text/plain": [
       "<Figure size 576x288 with 1 Axes>"
      ]
     },
     "metadata": {
      "needs_background": "light"
     },
     "output_type": "display_data"
    }
   ],
   "source": [
    "iterations_1 = np.arange(1, len(model_1.loss_array)+1)\n",
    "\n",
    "plt.figure(figsize=(8,4))\n",
    "plt.plot(iterations, model_1.loss_array)\n",
    "plt.title('Logistic Regression Log Loss ($eta$ = 0.1)')\n",
    "plt.xlabel('Iterations')\n",
    "plt.ylabel('Log Loss')\n",
    "plt.grid()\n",
    "plt.xlim(0,200)\n",
    "plt.show()"
   ]
  },
  {
   "cell_type": "markdown",
   "metadata": {},
   "source": [
    "**Выводы:**\n",
    "\n",
    "- Как следует из графиков выше, с увеличением параметра `eta` ухудшается сходимость ряда функции потерь (Log Loss). Так для `eta=0.001` кривая функции потерь гладкая и монотонно убывающая. Для больших значений `eta` наблюдаются переколебания, но при этом функция быстрее достигает минимального значения.\n",
    "- Увеличение скорости обучения также снижает точность распознавания, что отображение в таблице ниже.\n",
    "\n",
    "| eta | tr_acc | test_acc |\n",
    "|-----|--------|----------|\n",
    "|0.001| 0.9109 | 0.9388   |\n",
    "|0.01 | 0.7731 | 0.7527   |\n",
    "|0.1  | 0.5456 | 0.5278   |\n",
    "\n",
    "- Скорость сходимости в данном случае разменивается на точность распознавания\n"
   ]
  },
  {
   "cell_type": "markdown",
   "metadata": {},
   "source": [
    "**(0.5 points)** Try different regularization parameter values and compare the model quality."
   ]
  },
  {
   "cell_type": "code",
   "execution_count": 596,
   "metadata": {},
   "outputs": [],
   "source": [
    "C = [0.5, 0.75, 1, 1.25, 1.5, 2, 3, 4, 5, 10, 50]\n",
    "\n",
    "train_acc_c = []\n",
    "test_acc_c = []\n",
    "for c in C:\n",
    "    model_СX = CustomLogisticRegression(C=c)\n",
    "    tr, tst = fit_evaluate_without_plot(model_СX, X_train, y_train, X_test, y_test)\n",
    "    train_acc_c.append(tr)\n",
    "    test_acc_c.append(tst)"
   ]
  },
  {
   "cell_type": "code",
   "execution_count": 597,
   "metadata": {},
   "outputs": [
    {
     "data": {
      "image/png": "[encoded data removed]",
      "text/plain": [
       "<Figure size 576x288 with 1 Axes>"
      ]
     },
     "metadata": {
      "needs_background": "light"
     },
     "output_type": "display_data"
    }
   ],
   "source": [
    "plt.figure(figsize=(8,4))\n",
    "plt.plot(C, train_acc_c)\n",
    "plt.plot(C, test_acc_c)\n",
    "plt.title('Logistic Regression Performance for different L2-regularization force C')\n",
    "plt.xlabel('C - regularization force')\n",
    "plt.ylabel('Accuracy')\n",
    "plt.legend(['train', 'test'])\n",
    "plt.grid()\n",
    "plt.xlim(0,20)\n",
    "plt.show()"
   ]
  },
  {
   "cell_type": "code",
   "execution_count": 646,
   "metadata": {},
   "outputs": [
    {
     "data": {
      "text/html": [
       "<div>\n",
       "<style scoped>\n",
       "    .dataframe tbody tr th:only-of-type {\n",
       "        vertical-align: middle;\n",
       "    }\n",
       "\n",
       "    .dataframe tbody tr th {\n",
       "        vertical-align: top;\n",
       "    }\n",
       "\n",
       "    .dataframe thead th {\n",
       "        text-align: right;\n",
       "    }\n",
       "</style>\n",
       "<table border=\"1\" class=\"dataframe\">\n",
       "  <thead>\n",
       "    <tr style=\"text-align: right;\">\n",
       "      <th></th>\n",
       "      <th>train_acc</th>\n",
       "      <th>test_acc</th>\n",
       "    </tr>\n",
       "  </thead>\n",
       "  <tbody>\n",
       "    <tr>\n",
       "      <th>0.50</th>\n",
       "      <td>0.903967</td>\n",
       "      <td>0.927778</td>\n",
       "    </tr>\n",
       "    <tr>\n",
       "      <th>0.75</th>\n",
       "      <td>0.910926</td>\n",
       "      <td>0.933333</td>\n",
       "    </tr>\n",
       "    <tr>\n",
       "      <th>1.00</th>\n",
       "      <td>0.910926</td>\n",
       "      <td>0.938889</td>\n",
       "    </tr>\n",
       "    <tr>\n",
       "      <th>1.25</th>\n",
       "      <td>0.911621</td>\n",
       "      <td>0.941667</td>\n",
       "    </tr>\n",
       "    <tr>\n",
       "      <th>1.50</th>\n",
       "      <td>0.913013</td>\n",
       "      <td>0.941667</td>\n",
       "    </tr>\n",
       "    <tr>\n",
       "      <th>2.00</th>\n",
       "      <td>0.913709</td>\n",
       "      <td>0.944444</td>\n",
       "    </tr>\n",
       "    <tr>\n",
       "      <th>3.00</th>\n",
       "      <td>0.915101</td>\n",
       "      <td>0.944444</td>\n",
       "    </tr>\n",
       "    <tr>\n",
       "      <th>4.00</th>\n",
       "      <td>0.915101</td>\n",
       "      <td>0.944444</td>\n",
       "    </tr>\n",
       "    <tr>\n",
       "      <th>5.00</th>\n",
       "      <td>0.915101</td>\n",
       "      <td>0.944444</td>\n",
       "    </tr>\n",
       "    <tr>\n",
       "      <th>10.00</th>\n",
       "      <td>0.915101</td>\n",
       "      <td>0.941667</td>\n",
       "    </tr>\n",
       "    <tr>\n",
       "      <th>50.00</th>\n",
       "      <td>0.914405</td>\n",
       "      <td>0.941667</td>\n",
       "    </tr>\n",
       "  </tbody>\n",
       "</table>\n",
       "</div>"
      ],
      "text/plain": [
       "       train_acc  test_acc\n",
       "0.50    0.903967  0.927778\n",
       "0.75    0.910926  0.933333\n",
       "1.00    0.910926  0.938889\n",
       "1.25    0.911621  0.941667\n",
       "1.50    0.913013  0.941667\n",
       "2.00    0.913709  0.944444\n",
       "3.00    0.915101  0.944444\n",
       "4.00    0.915101  0.944444\n",
       "5.00    0.915101  0.944444\n",
       "10.00   0.915101  0.941667\n",
       "50.00   0.914405  0.941667"
      ]
     },
     "execution_count": 646,
     "metadata": {},
     "output_type": "execute_result"
    }
   ],
   "source": [
    "df = pd.DataFrame(train_acc_c, index=C, columns = ['train_acc'])\n",
    "df['test_acc'] = test_acc_c\n",
    "df.head(20)"
   ]
  },
  {
   "cell_type": "markdown",
   "metadata": {},
   "source": [
    "**Выводы**:\n",
    "- Из графика выше следует, что изменением параметра регуляризации можно добиться определенного увеличения точности классификации в обучающей и тестовой выборке. \n",
    "- Кривые точности для обеих выборок имет выраженный пик в диапазоне `C ~= [3,5]`, который и соответствует оптимальным параметрам C. В этом случае достигается максимальная точность распознавания достигает `train_acc= 0.915101` и `test_acc=0.944444`.\n",
    "- Модель `С<3` является недорегулированной (underfitting), а с `C>5` - перерегулированной (overfitting)."
   ]
  },
  {
   "cell_type": "markdown",
   "metadata": {},
   "source": [
    "**(0.5 points)** Compare zero initialization and random initialization. "
   ]
  },
  {
   "cell_type": "markdown",
   "metadata": {},
   "source": [
    "Сравним точностные характеристики модели с нулевыми начальными значениями и моделями со случайными начальными значениями. При этом модель со случайными весами запустим 2 раза."
   ]
  },
  {
   "cell_type": "markdown",
   "metadata": {},
   "source": [
    "- запуск №1 обучения модели со случайными начальными весами."
   ]
  },
  {
   "cell_type": "code",
   "execution_count": 648,
   "metadata": {},
   "outputs": [
    {
     "data": {
      "image/png": "[encoded data removed]",
      "text/plain": [
       "<Figure size 432x288 with 2 Axes>"
      ]
     },
     "metadata": {
      "needs_background": "light"
     },
     "output_type": "display_data"
    },
    {
     "data": {
      "text/plain": [
       "(0.9109255393180237, 0.9388888888888889)"
      ]
     },
     "execution_count": 648,
     "metadata": {},
     "output_type": "execute_result"
    }
   ],
   "source": [
    "model_rand1 = CustomLogisticRegression(zero_init=False)\n",
    "train_acc_rand1, test_acc_rand1 = fit_evaluate(model_rand1, X_train, y_train, X_test, y_test)\n",
    "train_acc_rand1, test_acc_rand1"
   ]
  },
  {
   "cell_type": "markdown",
   "metadata": {},
   "source": [
    "- запуск №2 обучения модели со случайными начальными весами."
   ]
  },
  {
   "cell_type": "code",
   "execution_count": 653,
   "metadata": {},
   "outputs": [
    {
     "data": {
      "image/png": "[encoded data removed]",
      "text/plain": [
       "<Figure size 432x288 with 2 Axes>"
      ]
     },
     "metadata": {
      "needs_background": "light"
     },
     "output_type": "display_data"
    },
    {
     "data": {
      "text/plain": [
       "(0.9109255393180237, 0.9388888888888889)"
      ]
     },
     "execution_count": 653,
     "metadata": {},
     "output_type": "execute_result"
    }
   ],
   "source": [
    "model_rand2 = CustomLogisticRegression(zero_init=False)\n",
    "train_acc_rand2, test_acc_rand2 = fit_evaluate(model_rand2, X_train, y_train, X_test, y_test)\n",
    "train_acc_rand2, test_acc_rand2"
   ]
  },
  {
   "cell_type": "code",
   "execution_count": 655,
   "metadata": {},
   "outputs": [
    {
     "data": {
      "text/html": [
       "<div>\n",
       "<style scoped>\n",
       "    .dataframe tbody tr th:only-of-type {\n",
       "        vertical-align: middle;\n",
       "    }\n",
       "\n",
       "    .dataframe tbody tr th {\n",
       "        vertical-align: top;\n",
       "    }\n",
       "\n",
       "    .dataframe thead th {\n",
       "        text-align: right;\n",
       "    }\n",
       "</style>\n",
       "<table border=\"1\" class=\"dataframe\">\n",
       "  <thead>\n",
       "    <tr style=\"text-align: right;\">\n",
       "      <th></th>\n",
       "      <th>train_acc</th>\n",
       "      <th>test_acc</th>\n",
       "    </tr>\n",
       "  </thead>\n",
       "  <tbody>\n",
       "    <tr>\n",
       "      <th>NoRand</th>\n",
       "      <td>0.910926</td>\n",
       "      <td>0.938889</td>\n",
       "    </tr>\n",
       "    <tr>\n",
       "      <th>Rand_1</th>\n",
       "      <td>0.910926</td>\n",
       "      <td>0.938889</td>\n",
       "    </tr>\n",
       "    <tr>\n",
       "      <th>Rand_2</th>\n",
       "      <td>0.910926</td>\n",
       "      <td>0.938889</td>\n",
       "    </tr>\n",
       "  </tbody>\n",
       "</table>\n",
       "</div>"
      ],
      "text/plain": [
       "       train_acc  test_acc\n",
       "NoRand  0.910926  0.938889\n",
       "Rand_1  0.910926  0.938889\n",
       "Rand_2  0.910926  0.938889"
      ]
     },
     "execution_count": 655,
     "metadata": {},
     "output_type": "execute_result"
    }
   ],
   "source": [
    "df = pandas.DataFrame(columns=['train_acc','test_acc'], index=['NoRand','Rand_1','Rand_2'])\n",
    "df.loc['NoRand'] = pd.Series({'train_acc':train_acc, 'test_acc':test_acc})\n",
    "df.loc['Rand_1'] = pd.Series({'train_acc':train_acc_rand1, 'test_acc':test_acc_rand1})\n",
    "df.loc['Rand_2'] = pd.Series({'train_acc':train_acc_rand2, 'test_acc':test_acc_rand2})\n",
    "\n",
    "df.head()"
   ]
  },
  {
   "cell_type": "code",
   "execution_count": 664,
   "metadata": {},
   "outputs": [
    {
     "data": {
      "image/png": "[encoded data removed]",
      "text/plain": [
       "<Figure size 576x288 with 1 Axes>"
      ]
     },
     "metadata": {
      "needs_background": "light"
     },
     "output_type": "display_data"
    }
   ],
   "source": [
    "plt.figure(figsize=(8,4))\n",
    "plt.plot(iterations, model.loss_array)\n",
    "plt.plot(iterations, model_rand1.loss_array)\n",
    "plt.title('Log Loss of Logistic Regression with random initial weights')\n",
    "plt.xlabel('Iterations')\n",
    "plt.ylabel('Log Loss')\n",
    "plt.legend(['NoRand', 'Rand_1'])\n",
    "plt.xlim(0,1000)\n",
    "plt.grid()\n",
    "plt.show()"
   ]
  },
  {
   "cell_type": "markdown",
   "metadata": {},
   "source": [
    "**Выводы**:\n",
    "- начальные значения весов не имеют решающего значения на сходимость Log Loss и точностные характеристики модели. Функции потерь и значения точности для обозначенных режимов полностью совпадают.\n",
    "- точностные характеристики модели со случайными начальными весами идентичны от обучения к обучению."
   ]
  },
  {
   "cell_type": "markdown",
   "metadata": {},
   "source": [
    "## Part 2: Implementing KNN Classifier"
   ]
  },
  {
   "cell_type": "markdown",
   "metadata": {},
   "source": [
    "In this task you need to implement weighted K-Neighbors Classifier."
   ]
  },
  {
   "cell_type": "markdown",
   "metadata": {},
   "source": [
    "Recall that training a KNN classifier is simply memorizing a training sample. \n",
    "\n",
    "The process of applying a classifier for one object is to find the distances from it to all objects in the training data, then select the k nearest objects (neighbors) and return the most common class among these objects."
   ]
  },
  {
   "cell_type": "markdown",
   "metadata": {},
   "source": [
    "You can also give the nearest neighbors weights in accordance with the distance of the object to them. In the simplest case (as in your assignment), you can set the weights inversely proportional to that distance. \n",
    "\n",
    "$$w_{i} = \\frac{1}{d_{i} + eps},$$\n",
    "\n",
    "where $d_{i}$ is the distance between object and i-th nearest neighbor and $eps$ is the small value to prevent division by zero.\n",
    "\n",
    "In case of 'uniform' weights, all k nearest neighbors are equivalent (have equal weight, for example $w_{i} = 1, \\forall i \\in(1,k)$)."
   ]
  },
  {
   "cell_type": "markdown",
   "metadata": {},
   "source": [
    "To predict the probability of classes, it is necessary to normalize the weights of each class, dividing them by the sum:\n",
    "\n",
    "$$p_{i} = \\frac{w_{i}}{\\sum_{j=1}^{c}w_{j}},$$\n",
    "\n",
    "where $p_i$ is probability of i-th class and $c$ is the number of classes."
   ]
  },
  {
   "cell_type": "markdown",
   "metadata": {},
   "source": [
    "**(2 points)** Implement the algorithm and use it to classify the digits. By implementing this algorithm, you will be able to classify numbers not only into \"even\" or \"odd\", but into their real representation."
   ]
  },
  {
   "cell_type": "code",
   "execution_count": 1001,
   "metadata": {},
   "outputs": [],
   "source": [
    "class CustomKNeighborsClassifier:\n",
    "    _estimator_type = \"classifier\"\n",
    "    \n",
    "    def __init__(self, n_neighbors=5, weights='uniform', eps=1e-9):\n",
    "        \"\"\"K-Nearest Neighbors classifier.\n",
    "        \n",
    "        Args:\n",
    "            n_neighbors: int, default=5\n",
    "                Number of neighbors to use by default for :meth:`kneighbors` queries.\n",
    "            weights : {'uniform', 'distance'} or callable, default='uniform'\n",
    "                Weight function used in prediction.  Possible values:\n",
    "                - 'uniform' : uniform weights.  All points in each neighborhood\n",
    "                  are weighted equally.\n",
    "                - 'distance' : weight points by the inverse of their distance.\n",
    "                  in this case, closer neighbors of a query point will have a\n",
    "                  greater influence than neighbors which are further away.\n",
    "            eps : float, default=1e-5\n",
    "                Epsilon to prevent division by 0 \n",
    "        \"\"\"\n",
    "        self.n_neighbors = n_neighbors\n",
    "        self.weights = weights\n",
    "        self.eps = eps\n",
    "        \n",
    "    \n",
    "    def get_pairwise_distances(self, X, Y):\n",
    "        \"\"\"\n",
    "        Returnes matrix of the pairwise distances between the rows from both X and Y.\n",
    "        Args:\n",
    "            X: numpy array of shape (n_samples, n_features)\n",
    "            Y: numpy array of shape (k_samples, n_features)\n",
    "        Returns:\n",
    "            P: numpy array of shape (n_samples, k_samples)\n",
    "                Matrix in which (i, j) value is the distance \n",
    "                between i'th row from the X and j'th row from the Y.\n",
    "        \"\"\"\n",
    "        if X.shape[1] != Y.shape[1]:\n",
    "            raise Exception(\"Number of features in X and Y must be the same!\") \n",
    "        \n",
    "        n = X.shape[0]\n",
    "        k = Y.shape[0]\n",
    "        \n",
    "        distances = np.zeros(shape=(n,k))\n",
    "        for i in range(n):\n",
    "            for j in range(k):\n",
    "                \n",
    "                distances[i,j] = np.linalg.norm(X[i,:] - Y[j,:])\n",
    "                \n",
    "#         print(distances)        \n",
    "        return distances\n",
    "    \n",
    "    def get_class_weights(self, y, weights):\n",
    "        \"\"\"\n",
    "        Returns a vector with sum of weights for each class \n",
    "        Args:\n",
    "            y: numpy array of shape (n_samles,)\n",
    "            weights: numpy array of shape (n_samples,)\n",
    "                The weights of the corresponding points of y.\n",
    "        Returns:\n",
    "            p: numpy array of shape (n_classes)\n",
    "                Array where the value at the i-th position \n",
    "                corresponds to the weight of the i-th class.\n",
    "        \"\"\"\n",
    "        if len(y) != len(weights):\n",
    "            raise Exception(\"Number of elements in 'y' and 'weights' must be the same!\") \n",
    "        \n",
    "        n = len(self.classes_)\n",
    "        class_weights = np.zeros(n)\n",
    "        for i in range(n):\n",
    "            class_weights[i] = weights[np.array(y == self.classes_[i])].sum()\n",
    "\n",
    "        return class_weights            \n",
    "        \n",
    "    def fit(self, X, y):\n",
    "        \"\"\"Fit the model.\n",
    "        \n",
    "        Args:\n",
    "            X: numpy array of shape (n_samples, n_features)\n",
    "            y: numpy array of shape (n_samples,)\n",
    "                Target vector.        \n",
    "        \"\"\"\n",
    "        self.points = X\n",
    "        self.y = y\n",
    "        self.classes_ = np.unique(y)\n",
    "        \n",
    "        \n",
    "    def predict_proba(self, X):\n",
    "        \"\"\"Predict positive class probabilities.\n",
    "        \n",
    "        Args:\n",
    "            X: numpy array of shape (n_samples, n_features)\n",
    "        Returns:\n",
    "            y: numpy array of shape (n_samples, n_classes)\n",
    "                Vector containing positive class probabilities.\n",
    "        \"\"\"\n",
    "        if hasattr(self, 'points'):\n",
    "            \n",
    "            P = self.get_pairwise_distances(X, self.points)\n",
    "            weights_of_points = np.ones(P.shape)\n",
    "            if self.weights == 'distance':\n",
    "                weights_of_points = 1/(P + eps)\n",
    "            \n",
    "            c = len(self.classes_)\n",
    "            m = X.shape[0]\n",
    "            M = np.zeros(shape=(m,c))\n",
    "            for i in range(m):\n",
    "                zipped = zip(P[i,:], self.y, weights_of_points[i,:])\n",
    "                zip_sorted = sorted(zipped, key=lambda x: x[0])[:self.n_neighbors]\n",
    "                y1 = np.array([z[1] for z in zip_sorted])\n",
    "                w1 = np.array([z[2] for z in zip_sorted])\n",
    "                _w = self.get_class_weights(y1,w1)\n",
    "                prob = list(_w/_w.sum())\n",
    "                M[i,:] = prob\n",
    "                \n",
    "            return M\n",
    "        \n",
    "        else: \n",
    "            raise NotFittedError(\"CustomKNeighborsClassifier instance is not fitted yet\")\n",
    "    \n",
    "        \n",
    "    def predict(self, X):\n",
    "        \"\"\"Predict classes.\n",
    "        \n",
    "        Args:\n",
    "            X: numpy array of shape (n_samples, n_features)\n",
    "        Returns:\n",
    "            y: numpy array of shape (n_samples,)\n",
    "                Vector containing predicted class labels.\n",
    "        \"\"\"\n",
    "        \n",
    "        probs = self.predict_proba(X)\n",
    "        return [self.classes_[arg] for arg in np.argmax(probs, axis=1)]"
   ]
  },
  {
   "cell_type": "code",
   "execution_count": 1002,
   "metadata": {},
   "outputs": [],
   "source": [
    "model = CustomKNeighborsClassifier(n_neighbors=5, weights='distance')\n",
    "knn = KNeighborsClassifier(n_neighbors=5, weights='distance')"
   ]
  },
  {
   "cell_type": "code",
   "execution_count": 1003,
   "metadata": {},
   "outputs": [],
   "source": [
    "assert np.allclose(model.get_pairwise_distances(np.array([[0  , 1]  , [1, 1]]), \n",
    "                                                np.array([[0.5, 0.5], [1, 0]])),\n",
    "                   np.array([[0.70710678, 1.41421356],\n",
    "                             [0.70710678, 1.        ]]))"
   ]
  },
  {
   "cell_type": "code",
   "execution_count": 992,
   "metadata": {},
   "outputs": [],
   "source": [
    "model.classes_ = ['one', 'two', 'three']\n",
    "assert np.allclose(model.get_class_weights(np.array(['one', 'one', 'three', 'two']), np.array([1, 1, 0, 4])), \n",
    "                   np.array([2,4,0]))"
   ]
  },
  {
   "cell_type": "code",
   "execution_count": 993,
   "metadata": {},
   "outputs": [
    {
     "data": {
      "image/png": "[encoded data removed]",
      "text/plain": [
       "<Figure size 720x360 with 21 Axes>"
      ]
     },
     "metadata": {
      "needs_background": "light"
     },
     "output_type": "display_data"
    }
   ],
   "source": [
    "X, y = datasets.load_digits(n_class=10, return_X_y=True)\n",
    "\n",
    "_, axes = plt.subplots(nrows=3, ncols=7, figsize=(10, 5))\n",
    "for ax, image, label in zip(axes.flatten(), X, y):\n",
    "    ax.set_axis_off()\n",
    "    ax.imshow(image.reshape((8, 8)), cmap=plt.cm.gray_r if label % 2 else plt.cm.afmhot_r)\n",
    "    ax.set_title(label)\n",
    "\n",
    "X_train, X_test, y_train, y_test = train_test_split(X, y, test_size=0.2, shuffle=True, random_state=42)"
   ]
  },
  {
   "cell_type": "code",
   "execution_count": 994,
   "metadata": {},
   "outputs": [],
   "source": [
    "model.fit(X_train, y_train)\n",
    "knn.fit(X_train, list(map(str, y_train)));"
   ]
  },
  {
   "cell_type": "code",
   "execution_count": 998,
   "metadata": {},
   "outputs": [],
   "source": [
    "assert np.allclose(model.predict_proba(X_test), knn.predict_proba(X_test))"
   ]
  },
  {
   "cell_type": "code",
   "execution_count": 999,
   "metadata": {},
   "outputs": [
    {
     "name": "stdout",
     "output_type": "stream",
     "text": [
      "probs.shape: (360, 10)\n",
      "args: [1 1 0 1]\n",
      "classes_: [0 1 2 3 4 5 6 7 8 9]\n"
     ]
    },
    {
     "data": {
      "image/png": "[encoded data removed]",
      "text/plain": [
       "<Figure size 432x288 with 2 Axes>"
      ]
     },
     "metadata": {
      "needs_background": "light"
     },
     "output_type": "display_data"
    },
    {
     "name": "stdout",
     "output_type": "stream",
     "text": [
      "probs.shape: (1437, 10)\n",
      "args: [1 1 0 1]\n",
      "classes_: [0 1 2 3 4 5 6 7 8 9]\n",
      "probs.shape: (360, 10)\n",
      "args: [1 1 0 1]\n",
      "classes_: [0 1 2 3 4 5 6 7 8 9]\n"
     ]
    }
   ],
   "source": [
    "train_acc, test_acc = fit_evaluate(model, X_train, y_train, X_test, y_test)"
   ]
  },
  {
   "cell_type": "code",
   "execution_count": 1000,
   "metadata": {},
   "outputs": [],
   "source": [
    "assert train_acc == 1\n",
    "assert test_acc > 0.98"
   ]
  },
  {
   "cell_type": "markdown",
   "metadata": {},
   "source": [
    "**(0.5 points)** Take a look at the confusion matrix and tell what numbers the model confuses and why this happens."
   ]
  },
  {
   "cell_type": "markdown",
   "metadata": {},
   "source": [
    "Проблемы в распознавании тех или иных символов связаны со схожестью их написания, например:\n",
    "- **5** : 6, 9\n",
    "- **7** : 9\n",
    "- **9** : 4, 5\n",
    "\n",
    "В приведенном примере проблемными являются символы 5, 7, 9."
   ]
  },
  {
   "cell_type": "markdown",
   "metadata": {},
   "source": [
    "**(0.5 points)** Try different n_neighbors parameters and compare the output probabilities of the model."
   ]
  },
  {
   "cell_type": "markdown",
   "metadata": {},
   "source": [
    "Определим точностные характеристики моделей при `n_neighbors=[1,10]` и выберем оптимальное значение параметра."
   ]
  },
  {
   "cell_type": "code",
   "execution_count": 1012,
   "metadata": {},
   "outputs": [],
   "source": [
    "n_neigh = np.arange(1,11)\n",
    "\n",
    "train_acc_k = []\n",
    "test_acc_k = []\n",
    "for n_i in n_neigh:\n",
    "    model_KK = CustomKNeighborsClassifier(n_neighbors=n_i, weights='distance')\n",
    "    tr, tst = fit_evaluate_without_plot(model_KK, X_train, y_train, X_test, y_test)\n",
    "    train_acc_k.append(tr)\n",
    "    test_acc_k.append(tst)"
   ]
  },
  {
   "cell_type": "code",
   "execution_count": 1014,
   "metadata": {},
   "outputs": [
    {
     "data": {
      "image/png": "[encoded data removed]",
      "text/plain": [
       "<Figure size 576x288 with 1 Axes>"
      ]
     },
     "metadata": {
      "needs_background": "light"
     },
     "output_type": "display_data"
    }
   ],
   "source": [
    "plt.figure(figsize=(8,4))\n",
    "plt.plot(n_neigh, train_acc_k)\n",
    "plt.plot(n_neigh, test_acc_k)\n",
    "plt.title('KNN Classifier with different `n_neighbors`')\n",
    "plt.xlabel('n_neighbors')\n",
    "plt.ylabel('Accuracy')\n",
    "plt.legend(['train', 'test'])\n",
    "plt.grid()\n",
    "plt.xlim(1,10)\n",
    "plt.show()"
   ]
  },
  {
   "cell_type": "code",
   "execution_count": 1016,
   "metadata": {},
   "outputs": [
    {
     "data": {
      "text/html": [
       "<div>\n",
       "<style scoped>\n",
       "    .dataframe tbody tr th:only-of-type {\n",
       "        vertical-align: middle;\n",
       "    }\n",
       "\n",
       "    .dataframe tbody tr th {\n",
       "        vertical-align: top;\n",
       "    }\n",
       "\n",
       "    .dataframe thead th {\n",
       "        text-align: right;\n",
       "    }\n",
       "</style>\n",
       "<table border=\"1\" class=\"dataframe\">\n",
       "  <thead>\n",
       "    <tr style=\"text-align: right;\">\n",
       "      <th></th>\n",
       "      <th>train_acc</th>\n",
       "      <th>test_acc</th>\n",
       "    </tr>\n",
       "  </thead>\n",
       "  <tbody>\n",
       "    <tr>\n",
       "      <th>1</th>\n",
       "      <td>1.0</td>\n",
       "      <td>0.977778</td>\n",
       "    </tr>\n",
       "    <tr>\n",
       "      <th>2</th>\n",
       "      <td>1.0</td>\n",
       "      <td>0.977778</td>\n",
       "    </tr>\n",
       "    <tr>\n",
       "      <th>3</th>\n",
       "      <td>1.0</td>\n",
       "      <td>0.983333</td>\n",
       "    </tr>\n",
       "    <tr>\n",
       "      <th>4</th>\n",
       "      <td>1.0</td>\n",
       "      <td>0.983333</td>\n",
       "    </tr>\n",
       "    <tr>\n",
       "      <th>5</th>\n",
       "      <td>1.0</td>\n",
       "      <td>0.986111</td>\n",
       "    </tr>\n",
       "    <tr>\n",
       "      <th>6</th>\n",
       "      <td>1.0</td>\n",
       "      <td>0.988889</td>\n",
       "    </tr>\n",
       "    <tr>\n",
       "      <th>7</th>\n",
       "      <td>1.0</td>\n",
       "      <td>0.988889</td>\n",
       "    </tr>\n",
       "    <tr>\n",
       "      <th>8</th>\n",
       "      <td>1.0</td>\n",
       "      <td>0.986111</td>\n",
       "    </tr>\n",
       "    <tr>\n",
       "      <th>9</th>\n",
       "      <td>1.0</td>\n",
       "      <td>0.980556</td>\n",
       "    </tr>\n",
       "    <tr>\n",
       "      <th>10</th>\n",
       "      <td>1.0</td>\n",
       "      <td>0.980556</td>\n",
       "    </tr>\n",
       "  </tbody>\n",
       "</table>\n",
       "</div>"
      ],
      "text/plain": [
       "    train_acc  test_acc\n",
       "1         1.0  0.977778\n",
       "2         1.0  0.977778\n",
       "3         1.0  0.983333\n",
       "4         1.0  0.983333\n",
       "5         1.0  0.986111\n",
       "6         1.0  0.988889\n",
       "7         1.0  0.988889\n",
       "8         1.0  0.986111\n",
       "9         1.0  0.980556\n",
       "10        1.0  0.980556"
      ]
     },
     "execution_count": 1016,
     "metadata": {},
     "output_type": "execute_result"
    }
   ],
   "source": [
    "df = pd.DataFrame(train_acc_k, index=n_neigh, columns = ['train_acc'])\n",
    "df['test_acc'] = test_acc_k\n",
    "df.head(10)"
   ]
  },
  {
   "cell_type": "markdown",
   "metadata": {},
   "source": [
    "**Выводы**:\n",
    "- Из графика выше следует, что изменением числа ближайших соседей `n_neighbors` можно добиться определенного увеличения точности классификации в обучающей и тестовой выборке. \n",
    "- Кривая точности распознавания для обучающей выборки неизменна на уровне 1.0, что объясняется принципом обучения (fit) модели, когда никакие манипуляции на обучающей выборкой не проводятся.\n",
    "- Кривая точности распознавания для тестовой выборки имеет выражжены пик в диапазоне `n_neighbors = [6,7]`, который и соответствует оптимальным параметрам `n_neighbors`. В этом случае достигается максимальная точность распознавания `test_acc=0.988889`.\n",
    "- Классификатор при `n_neighbors < 6` более чувствителен к выбросам в данных, а при `n_neighbors > 7` - более интегрирующий и поэтом менее чувстсвителен к особенностям данных."
   ]
  },
  {
   "cell_type": "markdown",
   "metadata": {},
   "source": [
    "**(0.5 points)** Compare both 'uniform' and 'distance' weights and share your thoughts in what situations which parameter can be better."
   ]
  },
  {
   "cell_type": "markdown",
   "metadata": {},
   "source": [
    "Построим модель KNN (uniform), рассчитаем параметры точности и сравним с KNN (distance)."
   ]
  },
  {
   "cell_type": "code",
   "execution_count": 1017,
   "metadata": {},
   "outputs": [
    {
     "data": {
      "image/png": "[encoded data removed]",
      "text/plain": [
       "<Figure size 432x288 with 2 Axes>"
      ]
     },
     "metadata": {
      "needs_background": "light"
     },
     "output_type": "display_data"
    }
   ],
   "source": [
    "model_U = CustomKNeighborsClassifier(n_neighbors=5, weights='uniform')\n",
    "train_acc_U, test_acc_U = fit_evaluate(model_U, X_train, y_train, X_test, y_test)"
   ]
  },
  {
   "cell_type": "code",
   "execution_count": 1019,
   "metadata": {},
   "outputs": [
    {
     "data": {
      "text/html": [
       "<div>\n",
       "<style scoped>\n",
       "    .dataframe tbody tr th:only-of-type {\n",
       "        vertical-align: middle;\n",
       "    }\n",
       "\n",
       "    .dataframe tbody tr th {\n",
       "        vertical-align: top;\n",
       "    }\n",
       "\n",
       "    .dataframe thead th {\n",
       "        text-align: right;\n",
       "    }\n",
       "</style>\n",
       "<table border=\"1\" class=\"dataframe\">\n",
       "  <thead>\n",
       "    <tr style=\"text-align: right;\">\n",
       "      <th></th>\n",
       "      <th>train_acc</th>\n",
       "      <th>test_acc</th>\n",
       "    </tr>\n",
       "  </thead>\n",
       "  <tbody>\n",
       "    <tr>\n",
       "      <th>distance</th>\n",
       "      <td>1.0</td>\n",
       "      <td>0.986111</td>\n",
       "    </tr>\n",
       "    <tr>\n",
       "      <th>uniform</th>\n",
       "      <td>0.989562</td>\n",
       "      <td>0.986111</td>\n",
       "    </tr>\n",
       "  </tbody>\n",
       "</table>\n",
       "</div>"
      ],
      "text/plain": [
       "         train_acc  test_acc\n",
       "distance       1.0  0.986111\n",
       "uniform   0.989562  0.986111"
      ]
     },
     "execution_count": 1019,
     "metadata": {},
     "output_type": "execute_result"
    }
   ],
   "source": [
    "df = pandas.DataFrame(columns=['train_acc','test_acc'], index=['distance','uniform'])\n",
    "df.loc['distance'] = pd.Series({'train_acc':train_acc, 'test_acc':test_acc})\n",
    "df.loc['uniform'] = pd.Series({'train_acc':train_acc_U, 'test_acc':test_acc_U})\n",
    "\n",
    "df.head()"
   ]
  },
  {
   "cell_type": "markdown",
   "metadata": {},
   "source": [
    "Как следует из таблица, точность распознавния в тестовой выборки у выбранных моделей идентичная, а отличия наблюдаются в точности распознавания обучающей выборки."
   ]
  },
  {
   "cell_type": "markdown",
   "metadata": {},
   "source": [
    "Проведем дополнительное исследование. Оценим влияние параметра `n_neigbors` на точностные характеристики KNN (uniform). Для этого будем изменять параметр `n_neigbors` в диапазоне `[1,10]`."
   ]
  },
  {
   "cell_type": "code",
   "execution_count": 1026,
   "metadata": {},
   "outputs": [],
   "source": [
    "n_neigh = np.arange(1,11)\n",
    "\n",
    "train_acc_kU = []\n",
    "test_acc_kU = []\n",
    "for n_i in n_neigh:\n",
    "    model_KKU = CustomKNeighborsClassifier(n_neighbors=n_i, weights='uniform')\n",
    "    tr, tst = fit_evaluate_without_plot(model_KKU, X_train, y_train, X_test, y_test)\n",
    "    train_acc_kU.append(tr)\n",
    "    test_acc_kU.append(tst)"
   ]
  },
  {
   "cell_type": "code",
   "execution_count": 1028,
   "metadata": {},
   "outputs": [
    {
     "data": {
      "image/png": "[encoded data removed]",
      "text/plain": [
       "<Figure size 576x288 with 1 Axes>"
      ]
     },
     "metadata": {
      "needs_background": "light"
     },
     "output_type": "display_data"
    }
   ],
   "source": [
    "plt.figure(figsize=(8,4))\n",
    "plt.plot(n_neigh, train_acc_kU)\n",
    "plt.plot(n_neigh, test_acc_kU)\n",
    "plt.title('KNN Classifier (`uniform`) with different `n_neighbors`')\n",
    "plt.xlabel('n_neighbors')\n",
    "plt.ylabel('Accuracy')\n",
    "plt.legend(['train', 'test'])\n",
    "plt.grid()\n",
    "plt.xlim(1,10)\n",
    "plt.show()"
   ]
  },
  {
   "cell_type": "code",
   "execution_count": 1022,
   "metadata": {},
   "outputs": [
    {
     "data": {
      "text/html": [
       "<div>\n",
       "<style scoped>\n",
       "    .dataframe tbody tr th:only-of-type {\n",
       "        vertical-align: middle;\n",
       "    }\n",
       "\n",
       "    .dataframe tbody tr th {\n",
       "        vertical-align: top;\n",
       "    }\n",
       "\n",
       "    .dataframe thead th {\n",
       "        text-align: right;\n",
       "    }\n",
       "</style>\n",
       "<table border=\"1\" class=\"dataframe\">\n",
       "  <thead>\n",
       "    <tr style=\"text-align: right;\">\n",
       "      <th></th>\n",
       "      <th>train_acc</th>\n",
       "      <th>test_acc</th>\n",
       "    </tr>\n",
       "  </thead>\n",
       "  <tbody>\n",
       "    <tr>\n",
       "      <th>1</th>\n",
       "      <td>1.000000</td>\n",
       "      <td>0.977778</td>\n",
       "    </tr>\n",
       "    <tr>\n",
       "      <th>2</th>\n",
       "      <td>0.990953</td>\n",
       "      <td>0.980556</td>\n",
       "    </tr>\n",
       "    <tr>\n",
       "      <th>3</th>\n",
       "      <td>0.993041</td>\n",
       "      <td>0.983333</td>\n",
       "    </tr>\n",
       "    <tr>\n",
       "      <th>4</th>\n",
       "      <td>0.992345</td>\n",
       "      <td>0.980556</td>\n",
       "    </tr>\n",
       "    <tr>\n",
       "      <th>5</th>\n",
       "      <td>0.989562</td>\n",
       "      <td>0.986111</td>\n",
       "    </tr>\n",
       "    <tr>\n",
       "      <th>6</th>\n",
       "      <td>0.989562</td>\n",
       "      <td>0.988889</td>\n",
       "    </tr>\n",
       "    <tr>\n",
       "      <th>7</th>\n",
       "      <td>0.990257</td>\n",
       "      <td>0.988889</td>\n",
       "    </tr>\n",
       "    <tr>\n",
       "      <th>8</th>\n",
       "      <td>0.986778</td>\n",
       "      <td>0.986111</td>\n",
       "    </tr>\n",
       "    <tr>\n",
       "      <th>9</th>\n",
       "      <td>0.987474</td>\n",
       "      <td>0.980556</td>\n",
       "    </tr>\n",
       "    <tr>\n",
       "      <th>10</th>\n",
       "      <td>0.982603</td>\n",
       "      <td>0.983333</td>\n",
       "    </tr>\n",
       "  </tbody>\n",
       "</table>\n",
       "</div>"
      ],
      "text/plain": [
       "    train_acc  test_acc\n",
       "1    1.000000  0.977778\n",
       "2    0.990953  0.980556\n",
       "3    0.993041  0.983333\n",
       "4    0.992345  0.980556\n",
       "5    0.989562  0.986111\n",
       "6    0.989562  0.988889\n",
       "7    0.990257  0.988889\n",
       "8    0.986778  0.986111\n",
       "9    0.987474  0.980556\n",
       "10   0.982603  0.983333"
      ]
     },
     "execution_count": 1022,
     "metadata": {},
     "output_type": "execute_result"
    }
   ],
   "source": [
    "df = pd.DataFrame(train_acc_kU, index=n_neigh, columns = ['train_acc'])\n",
    "df['test_acc'] = test_acc_kU\n",
    "df.head(10)"
   ]
  },
  {
   "cell_type": "markdown",
   "metadata": {},
   "source": [
    "Сравним точность распознавания тестовой выборки для KNN(distance) и KNN(uniform)."
   ]
  },
  {
   "cell_type": "code",
   "execution_count": 1029,
   "metadata": {},
   "outputs": [
    {
     "data": {
      "image/png": "[encoded data removed]",
      "text/plain": [
       "<Figure size 576x288 with 1 Axes>"
      ]
     },
     "metadata": {
      "needs_background": "light"
     },
     "output_type": "display_data"
    }
   ],
   "source": [
    "plt.figure(figsize=(8,4))\n",
    "plt.plot(n_neigh, test_acc_k)\n",
    "plt.plot(n_neigh, test_acc_kU)\n",
    "plt.title('KNN Classifier Test accuracy for with different `n_neighbors`')\n",
    "plt.xlabel('n_neighbors')\n",
    "plt.ylabel('Accuracy')\n",
    "plt.legend(['distance', 'uniform'])\n",
    "plt.grid()\n",
    "plt.xlim(1,10)\n",
    "plt.show()"
   ]
  },
  {
   "cell_type": "markdown",
   "metadata": {},
   "source": [
    "**Выводы**:\n",
    "- В отличие от KNN (distance), для текущего классификатора KNN (uniform) удаленность выбранных n объeктов не является решающей, т.к. все выбранные объекты считаются равноудаленными. Такое положение вещей приводит к снижению точности распознавания данных в обучающей выборки. При этом данная точность монотонно убывает от `acc_train=1.0`, соответствующей `n_neighbors=1`, до `acc_train=0.982603`, соответствующей `n_neighbors=10`.\n",
    "- При этом характер зависимости `acc_train(n_neighbors)` почти полностью соотвествуют аналогичной характеристике классификатора KNN(distance). Данная модель имеет такое же максимальное значение `test_acc=0.988889`.\n",
    "- При малых значениях `n_neighbors` лучшие результаты должен показывать KNN(distance), т.к. он позволяет различить удаленность выбранных объектов, а при больших значениях `n_neighbors` лучшие результаты должен показать KNN(uniform), т.к. удаленность тех или иных объекто в данном случае играет меньшую роль."
   ]
  },
  {
   "cell_type": "markdown",
   "metadata": {},
   "source": [
    "**(0.5 points)** Suggest another distance measurement function that could improve the quality of the classification for this task. "
   ]
  },
  {
   "cell_type": "markdown",
   "metadata": {},
   "source": [
    "В данной задаче можно также рассчитывать следующие расстояния между векторами признаков: \n",
    "- **COSINE**, чтобы учитывать угол, т.к. все цифры имеют радиальную форму.\n",
    "- **Chebyshev**, чтобы больше ориентироваться на отличия между векторами (максимальная линейная разность)."
   ]
  },
  {
   "cell_type": "markdown",
   "metadata": {},
   "source": [
    "**(0.5 points)** Suggest different task and distance function that you think would be suitable for it."
   ]
  },
  {
   "cell_type": "markdown",
   "metadata": {},
   "source": [
    "В случае, если нужно было бы классифицировать изображения, основные направления линий на которых были бы параллельны осям координат (и ортогональны друг другу), то оптимальной функцией рассчета расстояния был бы  **Manhattan**, т.к. наборы признаков в таком случае имели бы линейную различимость."
   ]
  },
  {
   "cell_type": "markdown",
   "metadata": {},
   "source": [
    "## Part 3: Synthetic Titanic Survival Prediction"
   ]
  },
  {
   "cell_type": "markdown",
   "metadata": {},
   "source": [
    "### Dataset\n",
    "\n",
    "Read the description here: https://www.kaggle.com/c/tabular-playground-series-apr-2021/data. Download the dataset and place it in the *data/titanic/* folder in your working directory.\n",
    "You will use train.csv for model training and validation. The test set is used for model testing: once the model is trained, you can predict whether a passenger survived or not for each passenger in the test set, and submit the predictions: https://www.kaggle.com/c/tabular-playground-series-apr-2021/overview/evaluation.  \n"
   ]
  },
  {
   "cell_type": "code",
   "execution_count": 1031,
   "metadata": {},
   "outputs": [],
   "source": [
    "PATH = \"./data/\""
   ]
  },
  {
   "cell_type": "code",
   "execution_count": 1032,
   "metadata": {},
   "outputs": [],
   "source": [
    "data = pd.read_csv(os.path.join(PATH, 'titanic', 'train.csv')).set_index('PassengerId')"
   ]
  },
  {
   "cell_type": "code",
   "execution_count": 1033,
   "metadata": {
    "scrolled": true
   },
   "outputs": [
    {
     "data": {
      "text/html": [
       "<div>\n",
       "<style scoped>\n",
       "    .dataframe tbody tr th:only-of-type {\n",
       "        vertical-align: middle;\n",
       "    }\n",
       "\n",
       "    .dataframe tbody tr th {\n",
       "        vertical-align: top;\n",
       "    }\n",
       "\n",
       "    .dataframe thead th {\n",
       "        text-align: right;\n",
       "    }\n",
       "</style>\n",
       "<table border=\"1\" class=\"dataframe\">\n",
       "  <thead>\n",
       "    <tr style=\"text-align: right;\">\n",
       "      <th></th>\n",
       "      <th>Survived</th>\n",
       "      <th>Pclass</th>\n",
       "      <th>Name</th>\n",
       "      <th>Sex</th>\n",
       "      <th>Age</th>\n",
       "      <th>SibSp</th>\n",
       "      <th>Parch</th>\n",
       "      <th>Ticket</th>\n",
       "      <th>Fare</th>\n",
       "      <th>Cabin</th>\n",
       "      <th>Embarked</th>\n",
       "    </tr>\n",
       "    <tr>\n",
       "      <th>PassengerId</th>\n",
       "      <th></th>\n",
       "      <th></th>\n",
       "      <th></th>\n",
       "      <th></th>\n",
       "      <th></th>\n",
       "      <th></th>\n",
       "      <th></th>\n",
       "      <th></th>\n",
       "      <th></th>\n",
       "      <th></th>\n",
       "      <th></th>\n",
       "    </tr>\n",
       "  </thead>\n",
       "  <tbody>\n",
       "    <tr>\n",
       "      <th>0</th>\n",
       "      <td>1</td>\n",
       "      <td>1</td>\n",
       "      <td>Oconnor, Frankie</td>\n",
       "      <td>male</td>\n",
       "      <td>NaN</td>\n",
       "      <td>2</td>\n",
       "      <td>0</td>\n",
       "      <td>209245</td>\n",
       "      <td>27.14</td>\n",
       "      <td>C12239</td>\n",
       "      <td>S</td>\n",
       "    </tr>\n",
       "    <tr>\n",
       "      <th>1</th>\n",
       "      <td>0</td>\n",
       "      <td>3</td>\n",
       "      <td>Bryan, Drew</td>\n",
       "      <td>male</td>\n",
       "      <td>NaN</td>\n",
       "      <td>0</td>\n",
       "      <td>0</td>\n",
       "      <td>27323</td>\n",
       "      <td>13.35</td>\n",
       "      <td>NaN</td>\n",
       "      <td>S</td>\n",
       "    </tr>\n",
       "    <tr>\n",
       "      <th>2</th>\n",
       "      <td>0</td>\n",
       "      <td>3</td>\n",
       "      <td>Owens, Kenneth</td>\n",
       "      <td>male</td>\n",
       "      <td>0.33</td>\n",
       "      <td>1</td>\n",
       "      <td>2</td>\n",
       "      <td>CA 457703</td>\n",
       "      <td>71.29</td>\n",
       "      <td>NaN</td>\n",
       "      <td>S</td>\n",
       "    </tr>\n",
       "    <tr>\n",
       "      <th>3</th>\n",
       "      <td>0</td>\n",
       "      <td>3</td>\n",
       "      <td>Kramer, James</td>\n",
       "      <td>male</td>\n",
       "      <td>19.00</td>\n",
       "      <td>0</td>\n",
       "      <td>0</td>\n",
       "      <td>A. 10866</td>\n",
       "      <td>13.04</td>\n",
       "      <td>NaN</td>\n",
       "      <td>S</td>\n",
       "    </tr>\n",
       "    <tr>\n",
       "      <th>4</th>\n",
       "      <td>1</td>\n",
       "      <td>3</td>\n",
       "      <td>Bond, Michael</td>\n",
       "      <td>male</td>\n",
       "      <td>25.00</td>\n",
       "      <td>0</td>\n",
       "      <td>0</td>\n",
       "      <td>427635</td>\n",
       "      <td>7.76</td>\n",
       "      <td>NaN</td>\n",
       "      <td>S</td>\n",
       "    </tr>\n",
       "  </tbody>\n",
       "</table>\n",
       "</div>"
      ],
      "text/plain": [
       "             Survived  Pclass              Name   Sex    Age  SibSp  Parch  \\\n",
       "PassengerId                                                                  \n",
       "0                   1       1  Oconnor, Frankie  male    NaN      2      0   \n",
       "1                   0       3       Bryan, Drew  male    NaN      0      0   \n",
       "2                   0       3    Owens, Kenneth  male   0.33      1      2   \n",
       "3                   0       3     Kramer, James  male  19.00      0      0   \n",
       "4                   1       3     Bond, Michael  male  25.00      0      0   \n",
       "\n",
       "                Ticket   Fare   Cabin Embarked  \n",
       "PassengerId                                     \n",
       "0               209245  27.14  C12239        S  \n",
       "1                27323  13.35     NaN        S  \n",
       "2            CA 457703  71.29     NaN        S  \n",
       "3             A. 10866  13.04     NaN        S  \n",
       "4               427635   7.76     NaN        S  "
      ]
     },
     "execution_count": 1033,
     "metadata": {},
     "output_type": "execute_result"
    }
   ],
   "source": [
    "data.head()"
   ]
  },
  {
   "cell_type": "code",
   "execution_count": 1404,
   "metadata": {},
   "outputs": [],
   "source": [
    "# data_test = pd.read_csv(os.path.join(PATH, 'titanic', 'test.csv')).set_index('PassengerId')\n",
    "data_test = pd.read_csv(os.path.join(PATH, 'titanic', 'test.csv'))"
   ]
  },
  {
   "cell_type": "code",
   "execution_count": 1405,
   "metadata": {},
   "outputs": [
    {
     "data": {
      "text/html": [
       "<div>\n",
       "<style scoped>\n",
       "    .dataframe tbody tr th:only-of-type {\n",
       "        vertical-align: middle;\n",
       "    }\n",
       "\n",
       "    .dataframe tbody tr th {\n",
       "        vertical-align: top;\n",
       "    }\n",
       "\n",
       "    .dataframe thead th {\n",
       "        text-align: right;\n",
       "    }\n",
       "</style>\n",
       "<table border=\"1\" class=\"dataframe\">\n",
       "  <thead>\n",
       "    <tr style=\"text-align: right;\">\n",
       "      <th></th>\n",
       "      <th>PassengerId</th>\n",
       "      <th>Pclass</th>\n",
       "      <th>Name</th>\n",
       "      <th>Sex</th>\n",
       "      <th>Age</th>\n",
       "      <th>SibSp</th>\n",
       "      <th>Parch</th>\n",
       "      <th>Ticket</th>\n",
       "      <th>Fare</th>\n",
       "      <th>Cabin</th>\n",
       "      <th>Embarked</th>\n",
       "    </tr>\n",
       "  </thead>\n",
       "  <tbody>\n",
       "    <tr>\n",
       "      <th>0</th>\n",
       "      <td>100000</td>\n",
       "      <td>3</td>\n",
       "      <td>Holliday, Daniel</td>\n",
       "      <td>male</td>\n",
       "      <td>19.0</td>\n",
       "      <td>0</td>\n",
       "      <td>0</td>\n",
       "      <td>24745</td>\n",
       "      <td>63.01</td>\n",
       "      <td>NaN</td>\n",
       "      <td>S</td>\n",
       "    </tr>\n",
       "    <tr>\n",
       "      <th>1</th>\n",
       "      <td>100001</td>\n",
       "      <td>3</td>\n",
       "      <td>Nguyen, Lorraine</td>\n",
       "      <td>female</td>\n",
       "      <td>53.0</td>\n",
       "      <td>0</td>\n",
       "      <td>0</td>\n",
       "      <td>13264</td>\n",
       "      <td>5.81</td>\n",
       "      <td>NaN</td>\n",
       "      <td>S</td>\n",
       "    </tr>\n",
       "    <tr>\n",
       "      <th>2</th>\n",
       "      <td>100002</td>\n",
       "      <td>1</td>\n",
       "      <td>Harris, Heather</td>\n",
       "      <td>female</td>\n",
       "      <td>19.0</td>\n",
       "      <td>0</td>\n",
       "      <td>0</td>\n",
       "      <td>25990</td>\n",
       "      <td>38.91</td>\n",
       "      <td>B15315</td>\n",
       "      <td>C</td>\n",
       "    </tr>\n",
       "    <tr>\n",
       "      <th>3</th>\n",
       "      <td>100003</td>\n",
       "      <td>2</td>\n",
       "      <td>Larsen, Eric</td>\n",
       "      <td>male</td>\n",
       "      <td>25.0</td>\n",
       "      <td>0</td>\n",
       "      <td>0</td>\n",
       "      <td>314011</td>\n",
       "      <td>12.93</td>\n",
       "      <td>NaN</td>\n",
       "      <td>S</td>\n",
       "    </tr>\n",
       "    <tr>\n",
       "      <th>4</th>\n",
       "      <td>100004</td>\n",
       "      <td>1</td>\n",
       "      <td>Cleary, Sarah</td>\n",
       "      <td>female</td>\n",
       "      <td>17.0</td>\n",
       "      <td>0</td>\n",
       "      <td>2</td>\n",
       "      <td>26203</td>\n",
       "      <td>26.89</td>\n",
       "      <td>B22515</td>\n",
       "      <td>C</td>\n",
       "    </tr>\n",
       "  </tbody>\n",
       "</table>\n",
       "</div>"
      ],
      "text/plain": [
       "   PassengerId  Pclass              Name     Sex   Age  SibSp  Parch  Ticket  \\\n",
       "0       100000       3  Holliday, Daniel    male  19.0      0      0   24745   \n",
       "1       100001       3  Nguyen, Lorraine  female  53.0      0      0   13264   \n",
       "2       100002       1   Harris, Heather  female  19.0      0      0   25990   \n",
       "3       100003       2      Larsen, Eric    male  25.0      0      0  314011   \n",
       "4       100004       1     Cleary, Sarah  female  17.0      0      2   26203   \n",
       "\n",
       "    Fare   Cabin Embarked  \n",
       "0  63.01     NaN        S  \n",
       "1   5.81     NaN        S  \n",
       "2  38.91  B15315        C  \n",
       "3  12.93     NaN        S  \n",
       "4  26.89  B22515        C  "
      ]
     },
     "execution_count": 1405,
     "metadata": {},
     "output_type": "execute_result"
    }
   ],
   "source": [
    "data_test.head()"
   ]
  },
  {
   "cell_type": "markdown",
   "metadata": {},
   "source": [
    "### EDA"
   ]
  },
  {
   "cell_type": "code",
   "execution_count": 1053,
   "metadata": {},
   "outputs": [
    {
     "name": "stdout",
     "output_type": "stream",
     "text": [
      "`data` shape is (100000, 11)\n",
      "\n",
      "<class 'pandas.core.frame.DataFrame'>\n",
      "Int64Index: 100000 entries, 0 to 99999\n",
      "Data columns (total 11 columns):\n",
      " #   Column    Non-Null Count   Dtype  \n",
      "---  ------    --------------   -----  \n",
      " 0   Survived  100000 non-null  int64  \n",
      " 1   Pclass    100000 non-null  int64  \n",
      " 2   Name      100000 non-null  object \n",
      " 3   Sex       100000 non-null  object \n",
      " 4   Age       96708 non-null   float64\n",
      " 5   SibSp     100000 non-null  int64  \n",
      " 6   Parch     100000 non-null  int64  \n",
      " 7   Ticket    95377 non-null   object \n",
      " 8   Fare      99866 non-null   float64\n",
      " 9   Cabin     32134 non-null   object \n",
      " 10  Embarked  99750 non-null   object \n",
      "dtypes: float64(2), int64(4), object(5)\n",
      "memory usage: 9.2+ MB\n"
     ]
    }
   ],
   "source": [
    "print(f'`data` shape is {data.shape}\\n')\n",
    "data.info()"
   ]
  },
  {
   "cell_type": "markdown",
   "metadata": {},
   "source": [
    "### Fields definition\n",
    "- `Survived` - Survival (0 = No; 1 = Yes)\n",
    "- `Pclass` - Passenger airline class (1 = first, 2 = bussiness, 3 = economy).\n",
    "- `Name` - Passenger full name (Firts, Second).\n",
    "- `Sex` - Sex (male, female).\n",
    "- `Age` - Age (in years).\n",
    "- `SibSp` - Number of Siblings/Spouses Aboard\n",
    "- `Parch` - Number of Parents/Children Aboard\n",
    "- `Ticket` - Ticket number.\n",
    "- `Fare` - Ticket fare.\n",
    "- `Cabin` - Cabin (optional).\n",
    "- `Embarked` - Port of Embarkation (C = Cherbourg; Q = Queenstown; S = Southampton)"
   ]
  },
  {
   "cell_type": "markdown",
   "metadata": {},
   "source": [
    "**(0.5 points)** How many females and males are there in the dataset? What about the survived passengers? Is there any relationship between the gender and the survival?"
   ]
  },
  {
   "cell_type": "code",
   "execution_count": 1089,
   "metadata": {},
   "outputs": [
    {
     "data": {
      "image/png": "[encoded data removed]",
      "text/plain": [
       "<Figure size 1152x288 with 2 Axes>"
      ]
     },
     "metadata": {
      "needs_background": "light"
     },
     "output_type": "display_data"
    }
   ],
   "source": [
    "rows_count = data['Sex'].count()\n",
    "sex_total_count = data.groupby(['Sex']).Name.count()\n",
    "\n",
    "sex_stats = pd.DataFrame(data = sex_total_count)\n",
    "sex_stats = sex_stats.rename(columns = {'Name':'Total'})\n",
    "sex_stats['Total_Percent'] = sex_stats.Total / rows_count * 100\n",
    "sex_stats['Survived'] = data.loc[data.Survived == True].groupby(['Sex']).Name.count()\n",
    "sex_stats['Deceased_Percent'] = (sex_total_count - sex_stats.Survived) / sex_total_count * 100\n",
    "sex_stats['Survived_Percent'] = sex_stats.Survived / sex_total_count * 100\n",
    "sex_stats['Sex'] = sex_stats.index\n",
    "\n",
    "\n",
    "fig, axes = plt.subplots(ncols=2, nrows=1, figsize=(16,4))\n",
    "\n",
    "sns.barplot(x=sex_stats['Sex'], y=sex_stats['Total_Percent'], ax = axes[0])\n",
    "axes[0].set_title('Sex distribution, %')\n",
    "axes[0].set_ylabel('Count, %')\n",
    "axes[0].set_xlabel('Sex')\n",
    "axes[0].grid()\n",
    "\n",
    "\n",
    "sns.barplot(x=sex_stats['Sex'], y=sex_stats['Survived_Percent'], ax = axes[1])\n",
    "axes[1].set_title('Survived per Sex, %')\n",
    "axes[1].set_ylabel('Survivals, %')\n",
    "axes[1].set_xlabel('Sex')\n",
    "axes[1].grid()"
   ]
  },
  {
   "cell_type": "code",
   "execution_count": 1090,
   "metadata": {},
   "outputs": [
    {
     "data": {
      "text/html": [
       "<div>\n",
       "<style scoped>\n",
       "    .dataframe tbody tr th:only-of-type {\n",
       "        vertical-align: middle;\n",
       "    }\n",
       "\n",
       "    .dataframe tbody tr th {\n",
       "        vertical-align: top;\n",
       "    }\n",
       "\n",
       "    .dataframe thead th {\n",
       "        text-align: right;\n",
       "    }\n",
       "</style>\n",
       "<table border=\"1\" class=\"dataframe\">\n",
       "  <thead>\n",
       "    <tr style=\"text-align: right;\">\n",
       "      <th></th>\n",
       "      <th>Total</th>\n",
       "      <th>Total_Percent</th>\n",
       "      <th>Survived</th>\n",
       "      <th>Deceased_Percent</th>\n",
       "      <th>Survived_Percent</th>\n",
       "      <th>Sex</th>\n",
       "    </tr>\n",
       "    <tr>\n",
       "      <th>Sex</th>\n",
       "      <th></th>\n",
       "      <th></th>\n",
       "      <th></th>\n",
       "      <th></th>\n",
       "      <th></th>\n",
       "      <th></th>\n",
       "    </tr>\n",
       "  </thead>\n",
       "  <tbody>\n",
       "    <tr>\n",
       "      <th>female</th>\n",
       "      <td>43886</td>\n",
       "      <td>43.886</td>\n",
       "      <td>31226</td>\n",
       "      <td>28.847468</td>\n",
       "      <td>71.152532</td>\n",
       "      <td>female</td>\n",
       "    </tr>\n",
       "    <tr>\n",
       "      <th>male</th>\n",
       "      <td>56114</td>\n",
       "      <td>56.114</td>\n",
       "      <td>11548</td>\n",
       "      <td>79.420465</td>\n",
       "      <td>20.579535</td>\n",
       "      <td>male</td>\n",
       "    </tr>\n",
       "  </tbody>\n",
       "</table>\n",
       "</div>"
      ],
      "text/plain": [
       "        Total  Total_Percent  Survived  Deceased_Percent  Survived_Percent  \\\n",
       "Sex                                                                          \n",
       "female  43886         43.886     31226         28.847468         71.152532   \n",
       "male    56114         56.114     11548         79.420465         20.579535   \n",
       "\n",
       "           Sex  \n",
       "Sex             \n",
       "female  female  \n",
       "male      male  "
      ]
     },
     "execution_count": 1090,
     "metadata": {},
     "output_type": "execute_result"
    }
   ],
   "source": [
    "sex_stats.head()"
   ]
  },
  {
   "cell_type": "markdown",
   "metadata": {},
   "source": [
    "**Выводы:**\n",
    "- при общем превосходстве числа мужчин на судне (56% мужчин против 44% женщин) выживших среди женщин в 3.5 раза больше (20.5% мужчин против 71% жинщин). Объясняется это тем, что женщин спасали в первую очередь."
   ]
  },
  {
   "cell_type": "markdown",
   "metadata": {},
   "source": [
    "**(0.5 points)** Plot age distribution of the passengers. What is the average and the median age of survived and deceased passengers? Do age distributions differ for survived and deceased passengers? Why?"
   ]
  },
  {
   "cell_type": "code",
   "execution_count": 1138,
   "metadata": {},
   "outputs": [
    {
     "data": {
      "image/png": "[encoded data removed]",
      "text/plain": [
       "<Figure size 1152x288 with 1 Axes>"
      ]
     },
     "metadata": {
      "needs_background": "light"
     },
     "output_type": "display_data"
    }
   ],
   "source": [
    "plt.figure(figsize=(16,4))\n",
    "sns.histplot(data, x=\"Age\", discrete=True, kde=True )\n",
    "plt.title(f\"Age distribution (Suvived and Deceased)\")\n",
    "plt.grid()"
   ]
  },
  {
   "cell_type": "code",
   "execution_count": 1142,
   "metadata": {},
   "outputs": [
    {
     "data": {
      "image/png": "[encoded data removed]",
      "text/plain": [
       "<Figure size 1152x288 with 1 Axes>"
      ]
     },
     "metadata": {
      "needs_background": "light"
     },
     "output_type": "display_data"
    }
   ],
   "source": [
    "age_survived = data.loc[pd.notna(data.Age)].loc[data.Survived==1]['Age']\n",
    "age_survived_mean = np.mean(age_survived)\n",
    "age_survived_median = np.median(age_survived)\n",
    "\n",
    "age_deceased = data.loc[pd.notna(data.Age)].loc[data.Survived==0]['Age']\n",
    "age_deceased_mean = np.mean(age_deceased)\n",
    "age_deceased_median = np.median(age_deceased)\n",
    "\n",
    "plt.figure(figsize=(16,4))\n",
    "sns.histplot(data.loc[data.Survived==1,:], x=\"Age\", discrete=True, kde=True )\n",
    "plt.axvline(age_survived_mean, color='r', linestyle='dashed', linewidth=3)\n",
    "plt.axvline(age_survived_median, color='g', linestyle='dashed', linewidth=3)\n",
    "plt.title(f\"Survived: Age distribution\")\n",
    "\n",
    "min_ylim, max_ylim = plt.ylim()\n",
    "plt.text(age_survived_mean*0.8, max_ylim*0.9,'Mean: {:.2f}'.format(age_survived_mean))\n",
    "plt.text(age_survived_median*1.02, max_ylim*0.9,'Median: {:.2f}'.format(age_survived_median))\n",
    "plt.grid()"
   ]
  },
  {
   "cell_type": "code",
   "execution_count": 1143,
   "metadata": {},
   "outputs": [
    {
     "data": {
      "image/png": "[encoded data removed]",
      "text/plain": [
       "<Figure size 1152x288 with 1 Axes>"
      ]
     },
     "metadata": {
      "needs_background": "light"
     },
     "output_type": "display_data"
    }
   ],
   "source": [
    "plt.figure(figsize=(16,4))\n",
    "sns.histplot(data.loc[data.Survived==0,:], x=\"Age\", discrete=True, kde=True )\n",
    "plt.axvline(age_deceased_mean, color='r', linestyle='dashed', linewidth=3)\n",
    "plt.axvline(age_deceased_median, color='g', linestyle='dashed', linewidth=3)\n",
    "plt.title(f\"Deceased: Age distribution\")\n",
    "\n",
    "min_ylim, max_ylim = plt.ylim()\n",
    "plt.text(age_deceased_mean*0.8, max_ylim*0.9,'Mean: {:.2f}'.format(age_deceased_mean))\n",
    "plt.text(age_deceased_median*1.02, max_ylim*0.9,'Median: {:.2f}'.format(age_deceased_median))\n",
    "plt.grid()"
   ]
  },
  {
   "cell_type": "markdown",
   "metadata": {},
   "source": [
    "**Выводы:**\n",
    "- Из графиков распределения возрастов выживших и погибших следует, что спасали в первую очередь более пожилых людей. Так максимум выжившах людей имели возраст от 50 до 60 лет, в то время как большая часть погибших людей имела возраст от 24 до 30 лет.\n",
    "- В подтверждение вывода выше: медианное значение возраста выживших составляет 43 года, в то время как медианное значение возраста погибших - 36-37 лет."
   ]
  },
  {
   "cell_type": "markdown",
   "metadata": {},
   "source": [
    "**(1 point)** Explore \"passenger class\" and \"embarked\" features. What class was \"the safest\"? Is there any relationship between the embarkation port and the survival? Provide the corresponding visualizations."
   ]
  },
  {
   "cell_type": "markdown",
   "metadata": {},
   "source": [
    "#### Passenger class (Pclass) "
   ]
  },
  {
   "cell_type": "code",
   "execution_count": 1171,
   "metadata": {},
   "outputs": [
    {
     "data": {
      "image/png": "[encoded data removed]",
      "text/plain": [
       "<Figure size 1152x288 with 2 Axes>"
      ]
     },
     "metadata": {
      "needs_background": "light"
     },
     "output_type": "display_data"
    }
   ],
   "source": [
    "pclass_total_count = data.groupby(['Pclass']).Name.count()\n",
    "\n",
    "pclass_stats = pd.DataFrame(data = pclass_total_count)\n",
    "pclass_stats = pclass_stats.rename(columns = {'Name':'Total'})\n",
    "pclass_stats['Survived'] = data.loc[data.Survived == True].groupby(['Pclass']).Name.count()\n",
    "pclass_stats['Deceased_Percent'] = (pclass_stats.Total - pclass_stats.Survived) / pclass_stats.Total * 100\n",
    "pclass_stats['Survived_Percent'] = pclass_stats.Survived / pclass_stats.Total * 100\n",
    "pclass_stats['Pclass'] = pclass_stats.index\n",
    "\n",
    "fig, axes = plt.subplots(ncols=2, nrows=1, figsize=(16,4))\n",
    "sns.histplot(data, x=\"Pclass\", discrete=True, ax = axes[0])\n",
    "axes[0].set_title(f\"Pclass Distribution\")\n",
    "\n",
    "sns.barplot(x=pclass_stats.Pclass, y=pclass_stats.Survived_Percent, ax = axes[1])\n",
    "axes[1].set_title(f\"Survivals per Pclass, %\")\n",
    "axes[1].set_xlabel('Passenger class')\n",
    "axes[1].set_ylabel('Survived, %')\n",
    "axes[1].grid()"
   ]
  },
  {
   "cell_type": "code",
   "execution_count": 1169,
   "metadata": {},
   "outputs": [
    {
     "data": {
      "text/html": [
       "<div>\n",
       "<style scoped>\n",
       "    .dataframe tbody tr th:only-of-type {\n",
       "        vertical-align: middle;\n",
       "    }\n",
       "\n",
       "    .dataframe tbody tr th {\n",
       "        vertical-align: top;\n",
       "    }\n",
       "\n",
       "    .dataframe thead th {\n",
       "        text-align: right;\n",
       "    }\n",
       "</style>\n",
       "<table border=\"1\" class=\"dataframe\">\n",
       "  <thead>\n",
       "    <tr style=\"text-align: right;\">\n",
       "      <th></th>\n",
       "      <th>Total</th>\n",
       "      <th>Survived</th>\n",
       "      <th>Deceased_Percent</th>\n",
       "      <th>Survived_Percent</th>\n",
       "      <th>Pclass</th>\n",
       "    </tr>\n",
       "    <tr>\n",
       "      <th>Pclass</th>\n",
       "      <th></th>\n",
       "      <th></th>\n",
       "      <th></th>\n",
       "      <th></th>\n",
       "      <th></th>\n",
       "    </tr>\n",
       "  </thead>\n",
       "  <tbody>\n",
       "    <tr>\n",
       "      <th>1</th>\n",
       "      <td>30315</td>\n",
       "      <td>17576</td>\n",
       "      <td>42.022101</td>\n",
       "      <td>57.977899</td>\n",
       "      <td>1</td>\n",
       "    </tr>\n",
       "    <tr>\n",
       "      <th>2</th>\n",
       "      <td>28679</td>\n",
       "      <td>15057</td>\n",
       "      <td>47.498169</td>\n",
       "      <td>52.501831</td>\n",
       "      <td>2</td>\n",
       "    </tr>\n",
       "    <tr>\n",
       "      <th>3</th>\n",
       "      <td>41006</td>\n",
       "      <td>10141</td>\n",
       "      <td>75.269473</td>\n",
       "      <td>24.730527</td>\n",
       "      <td>3</td>\n",
       "    </tr>\n",
       "  </tbody>\n",
       "</table>\n",
       "</div>"
      ],
      "text/plain": [
       "        Total  Survived  Deceased_Percent  Survived_Percent  Pclass\n",
       "Pclass                                                             \n",
       "1       30315     17576         42.022101         57.977899       1\n",
       "2       28679     15057         47.498169         52.501831       2\n",
       "3       41006     10141         75.269473         24.730527       3"
      ]
     },
     "execution_count": 1169,
     "metadata": {},
     "output_type": "execute_result"
    }
   ],
   "source": [
    "pclass_stats.head()"
   ]
  },
  {
   "cell_type": "markdown",
   "metadata": {},
   "source": [
    "#### Embarkation Port (Embarked)"
   ]
  },
  {
   "cell_type": "code",
   "execution_count": 1188,
   "metadata": {},
   "outputs": [
    {
     "data": {
      "image/png": "[encoded data removed]",
      "text/plain": [
       "<Figure size 1152x288 with 2 Axes>"
      ]
     },
     "metadata": {
      "needs_background": "light"
     },
     "output_type": "display_data"
    }
   ],
   "source": [
    "embarked_total_count = data.groupby(['Embarked']).Name.count()\n",
    "\n",
    "embarked_stats = pd.DataFrame(data = embarked_total_count)\n",
    "embarked_stats = embarked_stats.rename(columns = {'Name':'Total'})\n",
    "embarked_stats['Survived'] = data.loc[data.Survived == True].groupby(['Pclass']).Name.count()\n",
    "embarked_stats['Deceased_Percent'] = (embarked_stats.Total - embarked_stats.Survived) / embarked_stats.Total * 100\n",
    "embarked_stats['Survived_Percent'] = embarked_stats.Survived / embarked_stats.Total * 100\n",
    "embarked_stats['Embarked'] = embarked_stats.index\n",
    "\n",
    "\n",
    "fig, axes = plt.subplots(ncols=2, nrows=1, figsize=(16,4))\n",
    "\n",
    "sns.histplot(data, x=\"Embarked\", discrete=True, ax = axes[0])\n",
    "axes[0].set_title(f\"Embarkation Port Distribution\")\n",
    "axes[0].grid()\n",
    "\n",
    "sns.barplot(x=pclass_stats.Pclass, y=pclass_stats.Survived_Percent, ax = axes[1])\n",
    "axes[1].set_title(f\"Survivals per Embarkation Port, %\")\n",
    "axes[1].set_xlabel('Embarkation Port')\n",
    "axes[1].set_ylabel('Survived, %')\n",
    "# axes[1].set_xticks(('S','C','Q'))\n",
    "axes[1].grid()"
   ]
  },
  {
   "cell_type": "markdown",
   "metadata": {},
   "source": [
    "**Выводы:**\n",
    "- наибольшее число пассажиров плыла в третьем классе,т.к. он самый дешевый. При этом наиболее безовасным с точки зрения выживания оказался первый класс.\n",
    "- наибольшее число пассажиров выплыло из Southampton (S), он и оказался самым безопасным."
   ]
  },
  {
   "cell_type": "markdown",
   "metadata": {},
   "source": [
    "### Modelling"
   ]
  },
  {
   "cell_type": "markdown",
   "metadata": {},
   "source": [
    "**(0.5 points)** Find the percentage of missing values for each feature. "
   ]
  },
  {
   "cell_type": "code",
   "execution_count": 1047,
   "metadata": {},
   "outputs": [
    {
     "name": "stdout",
     "output_type": "stream",
     "text": [
      "#\tColumn Name \tNull, %\n",
      "---\t---   \t\t---\n",
      "1\tSurvived       \t0.0%\n",
      "2\tPclass         \t0.0%\n",
      "3\tName           \t0.0%\n",
      "4\tSex            \t0.0%\n",
      "5\tAge            \t3.292%\n",
      "6\tSibSp          \t0.0%\n",
      "7\tParch          \t0.0%\n",
      "8\tTicket         \t4.623%\n",
      "9\tFare           \t0.134%\n",
      "10\tCabin          \t67.866%\n",
      "11\tEmbarked       \t0.25%\n"
     ]
    }
   ],
   "source": [
    "print(\"#\\tColumn Name \\tNull, %\")\n",
    "print(\"---\\t---   \\t\\t---\")\n",
    "i = 1\n",
    "for col in data.columns:\n",
    "    null_percent = data.loc[pd.isna(data[col])][col].shape[0] / data[col].shape[0] * 100\n",
    "    print(f\"{i}\\t{col.ljust(15)}\\t{null_percent}%\")\n",
    "    i += 1"
   ]
  },
  {
   "cell_type": "markdown",
   "metadata": {},
   "source": [
    "Think about the ways to handle these missing values for modelling and write your answer below. Which methods would you suggest? What are their advantages and disadvantages?\n"
   ]
  },
  {
   "cell_type": "markdown",
   "metadata": {},
   "source": [
    "В рассматриваемом наборе данных 5 признаков имеют пропущенные значения: Age, Ticket, Fare, Cabin, Embarked.\n",
    "Можно выделить следующие подходы по работе с признаками с пропущенными значениями:\n",
    "- полностью не рассматривать такие признаки при обучении модели. Сюда можно отнести признакми с большим числом пропуском, например, Cabin.\n",
    "- исключить из набора данных строчки, с пропусками в одном из параметров. Данный метод подходит для признаков с малым числом пропусков, например, Age, Ticket, Fare, Embarked.\n",
    "- заменять пропущенные значения другими. Данный метод подходит для легко интерпретируемых данных, например, для возраста (Age) или цены билетов (Fare).\n",
    "\n",
    "Все обозначенные подходы имеют несколько недостатков: или объем обучающей и тестовой выборок сокращается, или данные выборки содержат параметры с некорректными значениями."
   ]
  },
  {
   "cell_type": "markdown",
   "metadata": {},
   "source": [
    "Для текущей задачи пока не будем учитывать параметр Cabin, а также удалим все строки в DataFrame, содержащих пропущенные значения."
   ]
  },
  {
   "cell_type": "markdown",
   "metadata": {},
   "source": [
    "**(1.5 points)** Prepare the features and train two models (KNN and Logistic Regression) to predict the survival. Compare the results. Use accuracy as a metric. Don't forget about cross-validation!"
   ]
  },
  {
   "cell_type": "markdown",
   "metadata": {},
   "source": [
    "### 1. Prepare dataset"
   ]
  },
  {
   "cell_type": "markdown",
   "metadata": {},
   "source": [
    " Подготовим набор данных для обучения."
   ]
  },
  {
   "cell_type": "code",
   "execution_count": 1190,
   "metadata": {},
   "outputs": [
    {
     "data": {
      "text/plain": [
       "Survived      int64\n",
       "Pclass        int64\n",
       "Name         object\n",
       "Sex          object\n",
       "Age         float64\n",
       "SibSp         int64\n",
       "Parch         int64\n",
       "Ticket       object\n",
       "Fare        float64\n",
       "Cabin        object\n",
       "Embarked     object\n",
       "dtype: object"
      ]
     },
     "execution_count": 1190,
     "metadata": {},
     "output_type": "execute_result"
    }
   ],
   "source": [
    "data.dtypes"
   ]
  },
  {
   "cell_type": "code",
   "execution_count": 1358,
   "metadata": {},
   "outputs": [
    {
     "name": "stdout",
     "output_type": "stream",
     "text": [
      "will drop following columns: ['Name', 'Cabin', 'Ticket'] .\n"
     ]
    }
   ],
   "source": [
    "dataset = data.copy()\n",
    "\n",
    "redundant_columns = ['Name', 'Cabin', 'Ticket']\n",
    "cols_to_drop = redundant_columns\n",
    "print(f'will drop following columns: {cols_to_drop} .')\n",
    "dataset.drop(columns=cols_to_drop, inplace=True)\n",
    "\n",
    "dataset['Age'] = dataset['Age'].fillna(0)\n",
    "dataset['Fare'] = dataset['Fare'].fillna(0)"
   ]
  },
  {
   "cell_type": "code",
   "execution_count": 1359,
   "metadata": {},
   "outputs": [
    {
     "name": "stdout",
     "output_type": "stream",
     "text": [
      "will drop rows with NaN values .\n",
      "Dataset shape: (99750, 8)\n"
     ]
    }
   ],
   "source": [
    "print(f'will drop rows with NaN values .')\n",
    "dataset = dataset.loc[dataset.isna().sum(axis=1)==0]\n",
    "\n",
    "print(f'Dataset shape: {dataset.shape}')"
   ]
  },
  {
   "cell_type": "markdown",
   "metadata": {},
   "source": [
    "Изменим формат записи полей Sex и Embarked на числовой."
   ]
  },
  {
   "cell_type": "code",
   "execution_count": 1360,
   "metadata": {},
   "outputs": [
    {
     "data": {
      "text/html": [
       "<div>\n",
       "<style scoped>\n",
       "    .dataframe tbody tr th:only-of-type {\n",
       "        vertical-align: middle;\n",
       "    }\n",
       "\n",
       "    .dataframe tbody tr th {\n",
       "        vertical-align: top;\n",
       "    }\n",
       "\n",
       "    .dataframe thead th {\n",
       "        text-align: right;\n",
       "    }\n",
       "</style>\n",
       "<table border=\"1\" class=\"dataframe\">\n",
       "  <thead>\n",
       "    <tr style=\"text-align: right;\">\n",
       "      <th></th>\n",
       "      <th>Survived</th>\n",
       "      <th>Pclass</th>\n",
       "      <th>Age</th>\n",
       "      <th>SibSp</th>\n",
       "      <th>Parch</th>\n",
       "      <th>Fare</th>\n",
       "      <th>Sex</th>\n",
       "      <th>Embarked</th>\n",
       "    </tr>\n",
       "    <tr>\n",
       "      <th>PassengerId</th>\n",
       "      <th></th>\n",
       "      <th></th>\n",
       "      <th></th>\n",
       "      <th></th>\n",
       "      <th></th>\n",
       "      <th></th>\n",
       "      <th></th>\n",
       "      <th></th>\n",
       "    </tr>\n",
       "  </thead>\n",
       "  <tbody>\n",
       "    <tr>\n",
       "      <th>0</th>\n",
       "      <td>1</td>\n",
       "      <td>1</td>\n",
       "      <td>0.00</td>\n",
       "      <td>2</td>\n",
       "      <td>0</td>\n",
       "      <td>27.14</td>\n",
       "      <td>0</td>\n",
       "      <td>0</td>\n",
       "    </tr>\n",
       "    <tr>\n",
       "      <th>1</th>\n",
       "      <td>0</td>\n",
       "      <td>3</td>\n",
       "      <td>0.00</td>\n",
       "      <td>0</td>\n",
       "      <td>0</td>\n",
       "      <td>13.35</td>\n",
       "      <td>0</td>\n",
       "      <td>0</td>\n",
       "    </tr>\n",
       "    <tr>\n",
       "      <th>2</th>\n",
       "      <td>0</td>\n",
       "      <td>3</td>\n",
       "      <td>0.33</td>\n",
       "      <td>1</td>\n",
       "      <td>2</td>\n",
       "      <td>71.29</td>\n",
       "      <td>0</td>\n",
       "      <td>0</td>\n",
       "    </tr>\n",
       "    <tr>\n",
       "      <th>3</th>\n",
       "      <td>0</td>\n",
       "      <td>3</td>\n",
       "      <td>19.00</td>\n",
       "      <td>0</td>\n",
       "      <td>0</td>\n",
       "      <td>13.04</td>\n",
       "      <td>0</td>\n",
       "      <td>0</td>\n",
       "    </tr>\n",
       "    <tr>\n",
       "      <th>4</th>\n",
       "      <td>1</td>\n",
       "      <td>3</td>\n",
       "      <td>25.00</td>\n",
       "      <td>0</td>\n",
       "      <td>0</td>\n",
       "      <td>7.76</td>\n",
       "      <td>0</td>\n",
       "      <td>0</td>\n",
       "    </tr>\n",
       "  </tbody>\n",
       "</table>\n",
       "</div>"
      ],
      "text/plain": [
       "             Survived  Pclass    Age  SibSp  Parch   Fare  Sex  Embarked\n",
       "PassengerId                                                             \n",
       "0                   1       1   0.00      2      0  27.14    0         0\n",
       "1                   0       3   0.00      0      0  13.35    0         0\n",
       "2                   0       3   0.33      1      2  71.29    0         0\n",
       "3                   0       3  19.00      0      0  13.04    0         0\n",
       "4                   1       3  25.00      0      0   7.76    0         0"
      ]
     },
     "execution_count": 1360,
     "metadata": {},
     "output_type": "execute_result"
    }
   ],
   "source": [
    "dataset['Sex_1'] = [0 if v=='male' else 1 for v in dataset['Sex']]\n",
    "dataset['Embarked_1'] = [0 if v=='S' else (1 if v=='C' else 2) for v in dataset['Embarked']]\n",
    "\n",
    "dataset.drop(columns=['Sex','Embarked'], inplace=True)\n",
    "\n",
    "dataset.rename(columns={'Sex_1': 'Sex'}, inplace=True)\n",
    "dataset.rename(columns={'Embarked_1': 'Embarked'}, inplace=True)\n",
    "\n",
    "dataset.head()"
   ]
  },
  {
   "cell_type": "markdown",
   "metadata": {},
   "source": [
    "### 2. train/test split"
   ]
  },
  {
   "cell_type": "code",
   "execution_count": 1361,
   "metadata": {},
   "outputs": [
    {
     "name": "stdout",
     "output_type": "stream",
     "text": [
      "(99750, 8)\n",
      "(79800, 8) (19950, 8)\n"
     ]
    }
   ],
   "source": [
    "print(dataset.shape)\n",
    "ix_split = int(0.8 * dataset.shape[0])\n",
    "DF_TRAIN = dataset.iloc[:ix_split].copy()\n",
    "DF_TEST = dataset.iloc[ix_split:].copy()\n",
    "print(DF_TRAIN.shape, DF_TEST.shape)"
   ]
  },
  {
   "cell_type": "code",
   "execution_count": 1362,
   "metadata": {},
   "outputs": [],
   "source": [
    "from typing import List, Iterable\n",
    "def get_train_test_data(features: List[str], target: str) -> tuple:\n",
    "    \"\"\"\n",
    "    Return x_train, y_train, x_test, y_test using \n",
    "    * global train/test split \n",
    "    * features and target provided.\n",
    "    \"\"\"\n",
    "    # in general, it's a bad practice to use global variables. \n",
    "    # however, we use it here with caution for simplicity.\n",
    "    return (\n",
    "        DF_TRAIN[features].copy().to_numpy(), DF_TRAIN[target].copy().to_numpy(), \n",
    "        DF_TEST[features].copy().to_numpy(), DF_TEST[target].copy().to_numpy()\n",
    "    )"
   ]
  },
  {
   "cell_type": "code",
   "execution_count": 1363,
   "metadata": {},
   "outputs": [],
   "source": [
    "target = 'Survived'\n",
    "features = ['Pclass', 'Age', 'SibSp', 'Parch', 'Fare', 'Sex', 'Embarked']\n",
    "X_train, y_train, X_test, y_test = get_train_test_data(features, target)\n",
    "X = dataset[features].copy().to_numpy()\n",
    "y = dataset[target].copy().to_numpy()"
   ]
  },
  {
   "cell_type": "markdown",
   "metadata": {},
   "source": [
    "### 3. Training "
   ]
  },
  {
   "cell_type": "code",
   "execution_count": 1364,
   "metadata": {},
   "outputs": [
    {
     "data": {
      "image/png": "[encoded data removed]",
      "text/plain": [
       "<Figure size 432x288 with 2 Axes>"
      ]
     },
     "metadata": {
      "needs_background": "light"
     },
     "output_type": "display_data"
    },
    {
     "data": {
      "text/plain": [
       "(0.7583984962406014, 0.7583659147869675)"
      ]
     },
     "execution_count": 1364,
     "metadata": {},
     "output_type": "execute_result"
    }
   ],
   "source": [
    "from sklearn.linear_model import LogisticRegression\n",
    "import warnings\n",
    "warnings.filterwarnings('ignore')\n",
    "\n",
    "lr = LogisticRegression(random_state=0, max_iter=100)\n",
    "fit_evaluate(lr, X_train, y_train, X_test, y_test)\n",
    "\n",
    "results = cross_validate(lr, X, y, cv=5, return_train_score=True)\n",
    "\n",
    "train_acc = np.mean(results['train_score'])\n",
    "test_acc = np.mean(results['test_score'])\n",
    "train_acc, test_acc"
   ]
  },
  {
   "cell_type": "markdown",
   "metadata": {},
   "source": [
    "- Пробное обучение KNN"
   ]
  },
  {
   "cell_type": "code",
   "execution_count": 1365,
   "metadata": {},
   "outputs": [
    {
     "data": {
      "image/png": "[encoded data removed]",
      "text/plain": [
       "<Figure size 432x288 with 2 Axes>"
      ]
     },
     "metadata": {
      "needs_background": "light"
     },
     "output_type": "display_data"
    },
    {
     "data": {
      "text/plain": [
       "(0.9941804511278196, 0.7072080200501254)"
      ]
     },
     "execution_count": 1365,
     "metadata": {},
     "output_type": "execute_result"
    }
   ],
   "source": [
    "knn = KNeighborsClassifier(n_neighbors=5, weights='distance')\n",
    "fit_evaluate(knn, X_train, y_train, X_test, y_test)\n",
    "\n",
    "results = cross_validate(knn, X, y, cv=5, return_train_score=True)\n",
    "\n",
    "train_acc = np.mean(results['train_score'])\n",
    "test_acc = np.mean(results['test_score'])\n",
    "train_acc, test_acc"
   ]
  },
  {
   "cell_type": "markdown",
   "metadata": {},
   "source": [
    "**Выводы:**\n",
    "- на выбранных параметрах лучшую точнось распознавания демонстрирует Логистическая Регрессия (`test_acc=0.7583`). Точность для KNN составляет `test_acc=0.7072`.\n",
    "- для повышения точности распознавания необходимо оптимизировать перечень признаков и параметры моделей."
   ]
  },
  {
   "cell_type": "markdown",
   "metadata": {},
   "source": [
    "**(0.5 + X points)** Try more feature engineering and hyperparameter tuning to improve the results. You may use either KNN or Logistic Regression (or both)."
   ]
  },
  {
   "cell_type": "markdown",
   "metadata": {},
   "source": [
    "Select the best model, load the test set and make the predictions. Submit them to kaggle and see the results :)\n",
    "\n",
    "**Note**. X points will depend on your kaggle public leaderboard score.\n",
    "$$ f(score) = 1.0, \\ \\ 0.79 \\leq score < 0.80,$$\n",
    "$$ f(score) = 2.5, \\ \\ 0.80 \\leq score < 0.81,$$ \n",
    "$$ f(score) = 4.0, \\ \\ 0.81 \\leq score $$ \n",
    "Your code should generate the output submitted to kaggle. Fix random seeds to make the results reproducible."
   ]
  },
  {
   "cell_type": "markdown",
   "metadata": {},
   "source": [
    "### 1. Нормировка данных."
   ]
  },
  {
   "cell_type": "code",
   "execution_count": 1366,
   "metadata": {},
   "outputs": [],
   "source": [
    "from sklearn.preprocessing import MinMaxScaler\n",
    "\n",
    "scaler = MinMaxScaler()\n",
    "X1 = scaler.fit_transform(X)\n",
    "# X1 = X.copy()\n",
    "X1_train, X1_test, y_train, y_test = train_test_split(X1, y, test_size=0.2, shuffle=True, random_state=42)"
   ]
  },
  {
   "cell_type": "code",
   "execution_count": 1367,
   "metadata": {},
   "outputs": [
    {
     "data": {
      "image/png": "[encoded data removed]",
      "text/plain": [
       "<Figure size 432x288 with 2 Axes>"
      ]
     },
     "metadata": {
      "needs_background": "light"
     },
     "output_type": "display_data"
    },
    {
     "data": {
      "text/plain": [
       "(0.7586842105263157, 0.7575438596491229)"
      ]
     },
     "execution_count": 1367,
     "metadata": {},
     "output_type": "execute_result"
    }
   ],
   "source": [
    "lr = LogisticRegression(random_state=0, max_iter=100)\n",
    "fit_evaluate(lr, X1_train, y_train, X1_test, y_test)"
   ]
  },
  {
   "cell_type": "code",
   "execution_count": 1368,
   "metadata": {},
   "outputs": [
    {
     "data": {
      "image/png": "[encoded data removed]",
      "text/plain": [
       "<Figure size 432x288 with 2 Axes>"
      ]
     },
     "metadata": {
      "needs_background": "light"
     },
     "output_type": "display_data"
    },
    {
     "data": {
      "text/plain": [
       "(0.994172932330827, 0.716140350877193)"
      ]
     },
     "execution_count": 1368,
     "metadata": {},
     "output_type": "execute_result"
    }
   ],
   "source": [
    "knn = KNeighborsClassifier(n_neighbors=5, weights='distance')\n",
    "fit_evaluate(knn, X1_train, y_train, X1_test, y_test)"
   ]
  },
  {
   "cell_type": "code",
   "execution_count": 1369,
   "metadata": {},
   "outputs": [
    {
     "data": {
      "image/png": "[encoded data removed]",
      "text/plain": [
       "<Figure size 432x288 with 2 Axes>"
      ]
     },
     "metadata": {
      "needs_background": "light"
     },
     "output_type": "display_data"
    },
    {
     "data": {
      "text/plain": [
       "(0.8138345864661655, 0.7448621553884712)"
      ]
     },
     "execution_count": 1369,
     "metadata": {},
     "output_type": "execute_result"
    }
   ],
   "source": [
    "knn = KNeighborsClassifier(n_neighbors=5, weights='uniform')\n",
    "fit_evaluate(knn, X1_train, y_train, X1_test, y_test)"
   ]
  },
  {
   "cell_type": "markdown",
   "metadata": {},
   "source": [
    "### 2. Настройка Logistic Regression"
   ]
  },
  {
   "cell_type": "code",
   "execution_count": 1374,
   "metadata": {},
   "outputs": [],
   "source": [
    "C = [0.5, 0.75, 1., 1.25, 1.5, 2., 3., 4., 5., 10., 15., 25., 40.,  50., 60., 75., 100., 200., 500., 1000., 2000., 5000.]\n",
    "\n",
    "train_acc_c = []\n",
    "test_acc_c = []\n",
    "for c in C:\n",
    "    lr = LogisticRegression(C=c, max_iter=1000)\n",
    "    results = cross_validate(lr, X1, y, cv=5, return_train_score=True)\n",
    "\n",
    "    tr = np.mean(results['train_score'])\n",
    "    tst = np.mean(results['test_score'])\n",
    "    train_acc_c.append(tr)\n",
    "    test_acc_c.append(tst)\n",
    "        "
   ]
  },
  {
   "cell_type": "code",
   "execution_count": 1375,
   "metadata": {},
   "outputs": [
    {
     "name": "stdout",
     "output_type": "stream",
     "text": [
      "Optimal C : 1000.0, test_acc: 0.7580852130325815\n"
     ]
    }
   ],
   "source": [
    "c_opt = C[np.argmax(test_acc_c)]\n",
    "test_acc_max = np.max(test_acc_c)\n",
    "print(f'Optimal C : {c_opt}, test_acc: {test_acc_max}')"
   ]
  },
  {
   "cell_type": "code",
   "execution_count": 1376,
   "metadata": {},
   "outputs": [
    {
     "data": {
      "image/png": "[encoded data removed]",
      "text/plain": [
       "<Figure size 576x288 with 1 Axes>"
      ]
     },
     "metadata": {
      "needs_background": "light"
     },
     "output_type": "display_data"
    }
   ],
   "source": [
    "plt.figure(figsize=(8,4))\n",
    "plt.plot(C, train_acc_c)\n",
    "plt.plot(C, test_acc_c)\n",
    "plt.axvline(c_opt, color='r', linestyle='dashed', linewidth=3)\n",
    "plt.title('Logistic Regression Performance for different L2-regularization force C')\n",
    "plt.xlabel('C - regularization force')\n",
    "plt.ylabel('Accuracy')\n",
    "plt.legend(['train', 'test'])\n",
    "# plt.xlim(0,200)\n",
    "plt.grid()\n",
    "plt.show()"
   ]
  },
  {
   "cell_type": "code",
   "execution_count": null,
   "metadata": {},
   "outputs": [],
   "source": []
  },
  {
   "cell_type": "markdown",
   "metadata": {},
   "source": [
    "### 3. Настройка KNN"
   ]
  },
  {
   "cell_type": "markdown",
   "metadata": {},
   "source": [
    "#### 3.1 KNN (distance)"
   ]
  },
  {
   "cell_type": "code",
   "execution_count": 1377,
   "metadata": {},
   "outputs": [],
   "source": [
    "# n_neigh = np.arange(1,11)\n",
    "# n_neigh = [1,2,5,10,20,50,100]\n",
    "\n",
    "n_neigh = [5, 50, 100, 250, 500, 1000]\n",
    "\n",
    "# train_acc_k = []\n",
    "# test_acc_k = []\n",
    "# for n_i in n_neigh:\n",
    "#     knn1 = KNeighborsClassifier(n_neighbors=n_i, weights='distance')\n",
    "#     results = cross_validate(knn1, X1, y, cv=5, return_train_score=True)\n",
    "#     tr = np.mean(results['train_score'])\n",
    "#     tst = np.mean(results['test_score'])\n",
    "#     train_acc_k.append(tr)\n",
    "#     test_acc_k.append(tst)\n",
    "    \n",
    "\n",
    "train_acc_k = []\n",
    "test_acc_k = []\n",
    "for n_i in n_neigh:\n",
    "    knn1 = KNeighborsClassifier(n_neighbors=n_i, weights='distance')\n",
    "    tr, tst = fit_evaluate_without_plot(knn1, X1_train, y_train, X1_test, y_test)\n",
    "#     results = cross_validate(knn1, X1, y, cv=5, return_train_score=True)\n",
    "#     tr = np.mean(results['train_score'])\n",
    "#     tst = np.mean(results['test_score'])\n",
    "    train_acc_k.append(tr)\n",
    "    test_acc_k.append(tst)\n"
   ]
  },
  {
   "cell_type": "code",
   "execution_count": 1378,
   "metadata": {},
   "outputs": [
    {
     "name": "stdout",
     "output_type": "stream",
     "text": [
      "Optimal K_neighbors (`distance`) : 1000, test_acc: 0.7567418546365915\n"
     ]
    }
   ],
   "source": [
    "n_opt = n_neigh[np.argmax(test_acc_k)]\n",
    "test_acc_max = np.max(test_acc_k)\n",
    "print(f'Optimal K_neighbors (`distance`) : {n_opt}, test_acc: {test_acc_max}')"
   ]
  },
  {
   "cell_type": "code",
   "execution_count": 1379,
   "metadata": {},
   "outputs": [
    {
     "data": {
      "image/png": "[encoded data removed]",
      "text/plain": [
       "<Figure size 576x288 with 1 Axes>"
      ]
     },
     "metadata": {
      "needs_background": "light"
     },
     "output_type": "display_data"
    }
   ],
   "source": [
    "plt.figure(figsize=(8,4))\n",
    "plt.plot(n_neigh, train_acc_k)\n",
    "plt.plot(n_neigh, test_acc_k)\n",
    "plt.title('KNN Classifier with different `n_neighbors`')\n",
    "plt.xlabel('n_neighbors')\n",
    "plt.ylabel('Accuracy')\n",
    "plt.legend(['train', 'test'])\n",
    "plt.grid()\n",
    "# plt.xlim(1,10)\n",
    "plt.show()"
   ]
  },
  {
   "cell_type": "markdown",
   "metadata": {},
   "source": [
    "### 3.2 KNN (uniform)"
   ]
  },
  {
   "cell_type": "code",
   "execution_count": 1380,
   "metadata": {},
   "outputs": [],
   "source": [
    "n_neigh = [5, 50, 100, 250, 1000]\n",
    "\n",
    "train_acc_kU = []\n",
    "test_acc_kU = []\n",
    "for n_i in n_neigh:\n",
    "    knn1U = KNeighborsClassifier(n_neighbors=n_i, weights='uniform')\n",
    "    tr, tst = fit_evaluate_without_plot(knn1U, X1_train, y_train, X1_test, y_test)\n",
    "#     results = cross_validate(knn1, X1, y, cv=5, return_train_score=True)\n",
    "#     tr = np.mean(results['train_score'])\n",
    "#     tst = np.mean(results['test_score'])\n",
    "    train_acc_kU.append(tr)\n",
    "    test_acc_kU.append(tst)\n",
    "\n"
   ]
  },
  {
   "cell_type": "code",
   "execution_count": 1381,
   "metadata": {},
   "outputs": [
    {
     "name": "stdout",
     "output_type": "stream",
     "text": [
      "Optimal K_neighbors (`uniform`) : 50, test_acc: 0.767468671679198\n"
     ]
    }
   ],
   "source": [
    "n_optU = n_neigh[np.argmax(test_acc_kU)]\n",
    "test_acc_maxU = np.max(test_acc_kU)\n",
    "print(f'Optimal K_neighbors (`uniform`) : {n_optU}, test_acc: {test_acc_maxU}')"
   ]
  },
  {
   "cell_type": "code",
   "execution_count": 1382,
   "metadata": {},
   "outputs": [
    {
     "data": {
      "image/png": "[encoded data removed]",
      "text/plain": [
       "<Figure size 576x288 with 1 Axes>"
      ]
     },
     "metadata": {
      "needs_background": "light"
     },
     "output_type": "display_data"
    }
   ],
   "source": [
    "plt.figure(figsize=(8,4))\n",
    "plt.plot(n_neigh, train_acc_kU)\n",
    "plt.plot(n_neigh, test_acc_kU)\n",
    "plt.title('KNN Classifier (`uniform`) with different `n_neighbors`')\n",
    "plt.xlabel('n_neighbors')\n",
    "plt.ylabel('Accuracy')\n",
    "plt.legend(['train', 'test'])\n",
    "plt.grid()\n",
    "# plt.xlim(1,200)\n",
    "plt.show()"
   ]
  },
  {
   "cell_type": "markdown",
   "metadata": {},
   "source": [
    "### 4. Результаты настройки Logistic Regression и KNN"
   ]
  },
  {
   "cell_type": "code",
   "execution_count": 1386,
   "metadata": {},
   "outputs": [
    {
     "data": {
      "image/png": "[encoded data removed]",
      "text/plain": [
       "<Figure size 432x288 with 2 Axes>"
      ]
     },
     "metadata": {
      "needs_background": "light"
     },
     "output_type": "display_data"
    },
    {
     "data": {
      "text/plain": [
       "(0.7587092731829574, 0.7574937343358396)"
      ]
     },
     "execution_count": 1386,
     "metadata": {},
     "output_type": "execute_result"
    }
   ],
   "source": [
    "lr_result = LogisticRegression(C=1000, max_iter=1000)\n",
    "fit_evaluate(lr_result, X1_train, y_train, X1_test, y_test)"
   ]
  },
  {
   "cell_type": "code",
   "execution_count": 1389,
   "metadata": {},
   "outputs": [
    {
     "data": {
      "image/png": "[encoded data removed]",
      "text/plain": [
       "<Figure size 432x288 with 2 Axes>"
      ]
     },
     "metadata": {
      "needs_background": "light"
     },
     "output_type": "display_data"
    },
    {
     "data": {
      "text/plain": [
       "(0.7763909774436091, 0.767468671679198)"
      ]
     },
     "execution_count": 1389,
     "metadata": {},
     "output_type": "execute_result"
    }
   ],
   "source": [
    "knn_result = KNeighborsClassifier(n_neighbors=50, weights='uniform')\n",
    "fit_evaluate(knn_result, X1_train, y_train, X1_test, y_test)"
   ]
  },
  {
   "cell_type": "markdown",
   "metadata": {},
   "source": [
    "**Выводы**:\n",
    "- В качестве итоговой модели выберем KNN (uniform, k_neighbors=50). "
   ]
  },
  {
   "cell_type": "markdown",
   "metadata": {},
   "source": [
    "### 5. Формирование Submission"
   ]
  },
  {
   "cell_type": "markdown",
   "metadata": {},
   "source": [
    " Делаем предсказание по тестовой выборке. Формируем файл submission.csv и отправляем на Kaggle.\n",
    " Пока максимальная точность составляет `acc=0.78013`."
   ]
  },
  {
   "cell_type": "code",
   "execution_count": 1390,
   "metadata": {},
   "outputs": [
    {
     "name": "stdout",
     "output_type": "stream",
     "text": [
      "will drop following columns: ['Name', 'Cabin', 'Ticket'] .\n",
      "Dataset shape: (99750, 8)\n"
     ]
    }
   ],
   "source": [
    "dataset_test = data_test.copy()\n",
    "\n",
    "redundant_columns = ['Name', 'Cabin', 'Ticket']\n",
    "cols_to_drop = redundant_columns\n",
    "print(f'will drop following columns: {cols_to_drop} .')\n",
    "dataset_test.drop(columns=cols_to_drop, inplace=True)\n",
    "\n",
    "print(f'Dataset shape: {dataset.shape}')"
   ]
  },
  {
   "cell_type": "code",
   "execution_count": 1391,
   "metadata": {},
   "outputs": [],
   "source": [
    "dataset_test['Age'] = dataset_test['Age'].fillna(0)\n",
    "dataset_test['Fare'] = dataset_test['Fare'].fillna(0)"
   ]
  },
  {
   "cell_type": "code",
   "execution_count": 1392,
   "metadata": {},
   "outputs": [
    {
     "data": {
      "text/html": [
       "<div>\n",
       "<style scoped>\n",
       "    .dataframe tbody tr th:only-of-type {\n",
       "        vertical-align: middle;\n",
       "    }\n",
       "\n",
       "    .dataframe tbody tr th {\n",
       "        vertical-align: top;\n",
       "    }\n",
       "\n",
       "    .dataframe thead th {\n",
       "        text-align: right;\n",
       "    }\n",
       "</style>\n",
       "<table border=\"1\" class=\"dataframe\">\n",
       "  <thead>\n",
       "    <tr style=\"text-align: right;\">\n",
       "      <th></th>\n",
       "      <th>Pclass</th>\n",
       "      <th>Age</th>\n",
       "      <th>SibSp</th>\n",
       "      <th>Parch</th>\n",
       "      <th>Fare</th>\n",
       "      <th>Sex</th>\n",
       "      <th>Embarked</th>\n",
       "    </tr>\n",
       "    <tr>\n",
       "      <th>PassengerId</th>\n",
       "      <th></th>\n",
       "      <th></th>\n",
       "      <th></th>\n",
       "      <th></th>\n",
       "      <th></th>\n",
       "      <th></th>\n",
       "      <th></th>\n",
       "    </tr>\n",
       "  </thead>\n",
       "  <tbody>\n",
       "    <tr>\n",
       "      <th>100000</th>\n",
       "      <td>3</td>\n",
       "      <td>19.0</td>\n",
       "      <td>0</td>\n",
       "      <td>0</td>\n",
       "      <td>63.01</td>\n",
       "      <td>0</td>\n",
       "      <td>0</td>\n",
       "    </tr>\n",
       "    <tr>\n",
       "      <th>100001</th>\n",
       "      <td>3</td>\n",
       "      <td>53.0</td>\n",
       "      <td>0</td>\n",
       "      <td>0</td>\n",
       "      <td>5.81</td>\n",
       "      <td>1</td>\n",
       "      <td>0</td>\n",
       "    </tr>\n",
       "    <tr>\n",
       "      <th>100002</th>\n",
       "      <td>1</td>\n",
       "      <td>19.0</td>\n",
       "      <td>0</td>\n",
       "      <td>0</td>\n",
       "      <td>38.91</td>\n",
       "      <td>1</td>\n",
       "      <td>1</td>\n",
       "    </tr>\n",
       "    <tr>\n",
       "      <th>100003</th>\n",
       "      <td>2</td>\n",
       "      <td>25.0</td>\n",
       "      <td>0</td>\n",
       "      <td>0</td>\n",
       "      <td>12.93</td>\n",
       "      <td>0</td>\n",
       "      <td>0</td>\n",
       "    </tr>\n",
       "    <tr>\n",
       "      <th>100004</th>\n",
       "      <td>1</td>\n",
       "      <td>17.0</td>\n",
       "      <td>0</td>\n",
       "      <td>2</td>\n",
       "      <td>26.89</td>\n",
       "      <td>1</td>\n",
       "      <td>1</td>\n",
       "    </tr>\n",
       "  </tbody>\n",
       "</table>\n",
       "</div>"
      ],
      "text/plain": [
       "             Pclass   Age  SibSp  Parch   Fare  Sex  Embarked\n",
       "PassengerId                                                  \n",
       "100000            3  19.0      0      0  63.01    0         0\n",
       "100001            3  53.0      0      0   5.81    1         0\n",
       "100002            1  19.0      0      0  38.91    1         1\n",
       "100003            2  25.0      0      0  12.93    0         0\n",
       "100004            1  17.0      0      2  26.89    1         1"
      ]
     },
     "execution_count": 1392,
     "metadata": {},
     "output_type": "execute_result"
    }
   ],
   "source": [
    "dataset_test['Sex_1'] = [0 if v=='male' else 1 for v in dataset_test['Sex']]\n",
    "dataset_test['Embarked_1'] = [0 if v=='S' else (1 if v=='C' else 2) for v in dataset_test['Embarked']]\n",
    "\n",
    "dataset_test.drop(columns=['Sex','Embarked'], inplace=True)\n",
    "\n",
    "dataset_test.rename(columns={'Sex_1': 'Sex'}, inplace=True)\n",
    "dataset_test.rename(columns={'Embarked_1': 'Embarked'}, inplace=True)\n",
    "\n",
    "dataset_test.head()"
   ]
  },
  {
   "cell_type": "code",
   "execution_count": 1393,
   "metadata": {},
   "outputs": [
    {
     "name": "stdout",
     "output_type": "stream",
     "text": [
      "#\tColumn Name \tNull, %\n",
      "---\t---   \t\t---\n",
      "1\tPclass         \t0.0%\n",
      "2\tAge            \t0.0%\n",
      "3\tSibSp          \t0.0%\n",
      "4\tParch          \t0.0%\n",
      "5\tFare           \t0.0%\n",
      "6\tSex            \t0.0%\n",
      "7\tEmbarked       \t0.0%\n"
     ]
    }
   ],
   "source": [
    "print(\"#\\tColumn Name \\tNull, %\")\n",
    "print(\"---\\t---   \\t\\t---\")\n",
    "i = 1\n",
    "for col in dataset_test.columns:\n",
    "    null_percent = dataset_test.loc[pd.isna(dataset_test[col])][col].shape[0] / dataset_test[col].shape[0] * 100\n",
    "    print(f\"{i}\\t{col.ljust(15)}\\t{null_percent}%\")\n",
    "    i += 1"
   ]
  },
  {
   "cell_type": "code",
   "execution_count": 1418,
   "metadata": {},
   "outputs": [],
   "source": [
    "X_test = dataset_test[features].copy().to_numpy()\n",
    "X1_test = scaler.fit_transform(X_test)"
   ]
  },
  {
   "cell_type": "code",
   "execution_count": 1419,
   "metadata": {},
   "outputs": [
    {
     "data": {
      "text/plain": [
       "array([0, 0, 1, ..., 0, 1, 1])"
      ]
     },
     "execution_count": 1419,
     "metadata": {},
     "output_type": "execute_result"
    }
   ],
   "source": [
    "predictions = knn_result.predict(X1_test)\n",
    "predictions"
   ]
  },
  {
   "cell_type": "code",
   "execution_count": 1425,
   "metadata": {},
   "outputs": [
    {
     "data": {
      "text/html": [
       "<div>\n",
       "<style scoped>\n",
       "    .dataframe tbody tr th:only-of-type {\n",
       "        vertical-align: middle;\n",
       "    }\n",
       "\n",
       "    .dataframe tbody tr th {\n",
       "        vertical-align: top;\n",
       "    }\n",
       "\n",
       "    .dataframe thead th {\n",
       "        text-align: right;\n",
       "    }\n",
       "</style>\n",
       "<table border=\"1\" class=\"dataframe\">\n",
       "  <thead>\n",
       "    <tr style=\"text-align: right;\">\n",
       "      <th></th>\n",
       "      <th>Survived</th>\n",
       "    </tr>\n",
       "    <tr>\n",
       "      <th>PassengerId</th>\n",
       "      <th></th>\n",
       "    </tr>\n",
       "  </thead>\n",
       "  <tbody>\n",
       "    <tr>\n",
       "      <th>100000</th>\n",
       "      <td>0</td>\n",
       "    </tr>\n",
       "    <tr>\n",
       "      <th>100001</th>\n",
       "      <td>0</td>\n",
       "    </tr>\n",
       "    <tr>\n",
       "      <th>100002</th>\n",
       "      <td>1</td>\n",
       "    </tr>\n",
       "    <tr>\n",
       "      <th>100003</th>\n",
       "      <td>0</td>\n",
       "    </tr>\n",
       "    <tr>\n",
       "      <th>100004</th>\n",
       "      <td>1</td>\n",
       "    </tr>\n",
       "    <tr>\n",
       "      <th>...</th>\n",
       "      <td>...</td>\n",
       "    </tr>\n",
       "    <tr>\n",
       "      <th>199995</th>\n",
       "      <td>1</td>\n",
       "    </tr>\n",
       "    <tr>\n",
       "      <th>199996</th>\n",
       "      <td>0</td>\n",
       "    </tr>\n",
       "    <tr>\n",
       "      <th>199997</th>\n",
       "      <td>0</td>\n",
       "    </tr>\n",
       "    <tr>\n",
       "      <th>199998</th>\n",
       "      <td>1</td>\n",
       "    </tr>\n",
       "    <tr>\n",
       "      <th>199999</th>\n",
       "      <td>1</td>\n",
       "    </tr>\n",
       "  </tbody>\n",
       "</table>\n",
       "<p>100000 rows × 1 columns</p>\n",
       "</div>"
      ],
      "text/plain": [
       "             Survived\n",
       "PassengerId          \n",
       "100000              0\n",
       "100001              0\n",
       "100002              1\n",
       "100003              0\n",
       "100004              1\n",
       "...               ...\n",
       "199995              1\n",
       "199996              0\n",
       "199997              0\n",
       "199998              1\n",
       "199999              1\n",
       "\n",
       "[100000 rows x 1 columns]"
      ]
     },
     "execution_count": 1425,
     "metadata": {},
     "output_type": "execute_result"
    }
   ],
   "source": [
    "submisstion_data = dataset_test.copy()\n",
    "submisstion_data['Survived'] = predictions\n",
    "submisstion_data.drop(columns=features, inplace=True)\n",
    "submisstion_data"
   ]
  },
  {
   "cell_type": "code",
   "execution_count": 1427,
   "metadata": {},
   "outputs": [],
   "source": [
    "submisstion_data.to_csv('submission.csv')"
   ]
  },
  {
   "cell_type": "code",
   "execution_count": null,
   "metadata": {},
   "outputs": [],
   "source": []
  }
 ],
 "metadata": {
  "kernelspec": {
   "display_name": "Python 3 (ipykernel)",
   "language": "python",
   "name": "python3"
  },
  "language_info": {
   "codemirror_mode": {
    "name": "ipython",
    "version": 3
   },
   "file_extension": ".py",
   "mimetype": "text/x-python",
   "name": "python",
   "nbconvert_exporter": "python",
   "pygments_lexer": "ipython3",
   "version": "3.9.7"
  }
 },
 "nbformat": 4,
 "nbformat_minor": 4
}
